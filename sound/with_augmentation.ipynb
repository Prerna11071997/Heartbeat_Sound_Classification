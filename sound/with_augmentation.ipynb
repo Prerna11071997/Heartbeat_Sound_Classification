{
 "cells": [
  {
   "cell_type": "code",
   "execution_count": 87,
   "metadata": {},
   "outputs": [],
   "source": [
    "import tensorflow as tf\n",
    "import keras\n",
    "from keras.models import Sequential\n",
    "from keras.layers import Dense, Dropout, Flatten\n",
    "from keras.layers import Conv2D, MaxPooling2D, LSTM\n",
    "from keras.utils import to_categorical\n",
    "from keras.preprocessing import image\n",
    "import numpy as np\n",
    "import pandas as pd\n",
    "import matplotlib.pyplot as plt\n",
    "from keras.utils import to_categorical\n",
    "from tqdm import tqdm\n",
    "from sklearn.model_selection import train_test_split\n",
    "from keras.preprocessing.image import ImageDataGenerator, array_to_img, img_to_array, load_img\n",
    "\n",
    "from sklearn.preprocessing import LabelEncoder\n",
    "from sklearn.preprocessing import OneHotEncoder"
   ]
  },
  {
   "cell_type": "code",
   "execution_count": 88,
   "metadata": {},
   "outputs": [],
   "source": [
    "\n",
    "train = pd.read_csv('spec_df.csv')"
   ]
  },
  {
   "cell_type": "code",
   "execution_count": 89,
   "metadata": {},
   "outputs": [
    {
     "name": "stderr",
     "output_type": "stream",
     "text": [
      "100%|██████████| 461/461 [00:02<00:00, 214.52it/s]\n"
     ]
    }
   ],
   "source": [
    "from keras.preprocessing.image import ImageDataGenerator, array_to_img, img_to_array, load_img\n",
    "\n",
    "\n",
    "datagen = ImageDataGenerator(\n",
    "        rotation_range=40,\n",
    "        width_shift_range=0.2,\n",
    "        height_shift_range=0.2,\n",
    "        shear_range=0.2,\n",
    "        zoom_range=0.2,\n",
    "        horizontal_flip=True,\n",
    "        fill_mode='nearest')\n",
    "                     \n",
    "\n",
    "train_image = []\n",
    "for i in tqdm(range(train.shape[0])):\n",
    "    img = image.load_img(train['iname'][i], target_size=(28,28,3), grayscale=False)\n",
    "    img = image.img_to_array(img)\n",
    "    img = img/255\n",
    "    train_image.append(img)\n",
    "X = np.array(train_image)"
   ]
  },
  {
   "cell_type": "code",
   "execution_count": 90,
   "metadata": {},
   "outputs": [],
   "source": [
    "le = LabelEncoder() \n",
    "  \n",
    "train['label'] = le.fit_transform(train['label']) \n",
    "\n",
    "y=train['label'].values\n",
    "y = to_categorical(y)"
   ]
  },
  {
   "cell_type": "code",
   "execution_count": 91,
   "metadata": {},
   "outputs": [],
   "source": [
    "X_train, X_test, y_train, y_test = train_test_split(X, y, random_state=75, test_size=0.25, shuffle = True)"
   ]
  },
  {
   "cell_type": "code",
   "execution_count": 92,
   "metadata": {},
   "outputs": [],
   "source": [
    "datagen.fit(X_train)"
   ]
  },
  {
   "cell_type": "code",
   "execution_count": 93,
   "metadata": {},
   "outputs": [],
   "source": [
    "model = Sequential()\n",
    "model.add(Conv2D(32, kernel_size=(3, 3),activation='relu',input_shape=(28,28,3)))\n",
    "model.add(Conv2D(64, (3, 3), activation='relu'))\n",
    "model.add(MaxPooling2D(pool_size=(2, 2)))\n",
    "model.add(Dropout(0.25))\n",
    "model.add(Flatten())\n",
    "model.add(Dense(128, activation='relu'))\n",
    "model.add(Dropout(0.5))\n",
    "model.add(Dense(3, activation='softmax'))"
   ]
  },
  {
   "cell_type": "code",
   "execution_count": 94,
   "metadata": {},
   "outputs": [],
   "source": [
    "\n",
    "model.compile(loss='categorical_crossentropy',optimizer='Adam',metrics=['accuracy'])\n"
   ]
  },
  {
   "cell_type": "code",
   "execution_count": 95,
   "metadata": {},
   "outputs": [
    {
     "name": "stdout",
     "output_type": "stream",
     "text": [
      "Epoch 1/30\n",
      "11/11 [==============================] - 1s 85ms/step - loss: 0.9569 - accuracy: 0.6290\n",
      "Epoch 2/30\n",
      "11/11 [==============================] - 1s 65ms/step - loss: 0.8556 - accuracy: 0.6725\n",
      "Epoch 3/30\n",
      "11/11 [==============================] - 1s 61ms/step - loss: 0.8804 - accuracy: 0.6696\n",
      "Epoch 4/30\n",
      "11/11 [==============================] - 1s 62ms/step - loss: 0.8448 - accuracy: 0.6696\n",
      "Epoch 5/30\n",
      "11/11 [==============================] - 1s 63ms/step - loss: 0.8480 - accuracy: 0.6696\n",
      "Epoch 6/30\n",
      "11/11 [==============================] - 1s 64ms/step - loss: 0.8347 - accuracy: 0.6696\n",
      "Epoch 7/30\n",
      "11/11 [==============================] - 1s 62ms/step - loss: 0.8247 - accuracy: 0.6696\n",
      "Epoch 8/30\n",
      "11/11 [==============================] - 1s 63ms/step - loss: 0.8450 - accuracy: 0.6783\n",
      "Epoch 9/30\n",
      "11/11 [==============================] - 1s 62ms/step - loss: 0.8183 - accuracy: 0.6899\n",
      "Epoch 10/30\n",
      "11/11 [==============================] - 1s 63ms/step - loss: 0.8514 - accuracy: 0.6696\n",
      "Epoch 11/30\n",
      "11/11 [==============================] - 1s 63ms/step - loss: 0.8482 - accuracy: 0.6783\n",
      "Epoch 12/30\n",
      "11/11 [==============================] - 1s 62ms/step - loss: 0.8519 - accuracy: 0.6928\n",
      "Epoch 13/30\n",
      "11/11 [==============================] - 1s 64ms/step - loss: 0.8443 - accuracy: 0.6754\n",
      "Epoch 14/30\n",
      "11/11 [==============================] - 1s 65ms/step - loss: 0.8147 - accuracy: 0.7014\n",
      "Epoch 15/30\n",
      "11/11 [==============================] - 1s 65ms/step - loss: 0.8399 - accuracy: 0.6754\n",
      "Epoch 16/30\n",
      "11/11 [==============================] - 1s 63ms/step - loss: 0.7993 - accuracy: 0.6841\n",
      "Epoch 17/30\n",
      "11/11 [==============================] - 1s 63ms/step - loss: 0.8065 - accuracy: 0.6812\n",
      "Epoch 18/30\n",
      "11/11 [==============================] - 1s 63ms/step - loss: 0.7841 - accuracy: 0.6812\n",
      "Epoch 19/30\n",
      "11/11 [==============================] - 1s 61ms/step - loss: 0.8318 - accuracy: 0.6783\n",
      "Epoch 20/30\n",
      "11/11 [==============================] - 1s 63ms/step - loss: 0.8048 - accuracy: 0.6725\n",
      "Epoch 21/30\n",
      "11/11 [==============================] - 1s 64ms/step - loss: 0.7780 - accuracy: 0.7043\n",
      "Epoch 22/30\n",
      "11/11 [==============================] - 1s 68ms/step - loss: 0.8082 - accuracy: 0.6783\n",
      "Epoch 23/30\n",
      "11/11 [==============================] - 1s 67ms/step - loss: 0.7944 - accuracy: 0.6870\n",
      "Epoch 24/30\n",
      "11/11 [==============================] - 1s 69ms/step - loss: 0.7996 - accuracy: 0.6928\n",
      "Epoch 25/30\n",
      "11/11 [==============================] - 1s 67ms/step - loss: 0.7918 - accuracy: 0.6783\n",
      "Epoch 26/30\n",
      "11/11 [==============================] - 1s 65ms/step - loss: 0.7799 - accuracy: 0.6841\n",
      "Epoch 27/30\n",
      "11/11 [==============================] - 1s 65ms/step - loss: 0.7931 - accuracy: 0.7101\n",
      "Epoch 28/30\n",
      "11/11 [==============================] - 1s 63ms/step - loss: 0.7630 - accuracy: 0.7014\n",
      "Epoch 29/30\n",
      "11/11 [==============================] - 1s 65ms/step - loss: 0.8070 - accuracy: 0.6812\n",
      "Epoch 30/30\n",
      "11/11 [==============================] - 1s 65ms/step - loss: 0.7959 - accuracy: 0.6870\n"
     ]
    },
    {
     "data": {
      "text/plain": [
       "<keras.callbacks.callbacks.History at 0x197cca904c8>"
      ]
     },
     "execution_count": 95,
     "metadata": {},
     "output_type": "execute_result"
    }
   ],
   "source": [
    "model.fit_generator(datagen.flow(X_train, y_train, batch_size=32),epochs=30)"
   ]
  },
  {
   "cell_type": "code",
   "execution_count": 96,
   "metadata": {},
   "outputs": [
    {
     "name": "stdout",
     "output_type": "stream",
     "text": [
      "Model evaluation accuracy:  81\n"
     ]
    }
   ],
   "source": [
    "scores = model.evaluate(X_test, y_test, verbose = 0)\n",
    "print(\"Model evaluation accuracy: \", round(scores[1]*100))"
   ]
  },
  {
   "cell_type": "code",
   "execution_count": null,
   "metadata": {},
   "outputs": [],
   "source": []
  },
  {
   "cell_type": "code",
   "execution_count": null,
   "metadata": {},
   "outputs": [],
   "source": []
  },
  {
   "cell_type": "code",
   "execution_count": null,
   "metadata": {},
   "outputs": [],
   "source": []
  },
  {
   "cell_type": "code",
   "execution_count": null,
   "metadata": {},
   "outputs": [],
   "source": []
  }
 ],
 "metadata": {
  "kernelspec": {
   "display_name": "Python 3",
   "language": "python",
   "name": "python3"
  },
  "language_info": {
   "codemirror_mode": {
    "name": "ipython",
    "version": 3
   },
   "file_extension": ".py",
   "mimetype": "text/x-python",
   "name": "python",
   "nbconvert_exporter": "python",
   "pygments_lexer": "ipython3",
   "version": "3.7.7"
  }
 },
 "nbformat": 4,
 "nbformat_minor": 4
}
