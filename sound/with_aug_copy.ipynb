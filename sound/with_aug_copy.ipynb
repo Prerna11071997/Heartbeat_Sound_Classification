{
 "cells": [
  {
   "cell_type": "code",
   "execution_count": 97,
   "metadata": {},
   "outputs": [],
   "source": [
    "import tensorflow as tf\n",
    "import keras\n",
    "from keras.models import Sequential\n",
    "from keras.layers import Dense, Dropout, Flatten\n",
    "from keras.layers import Conv2D, MaxPooling2D, LSTM\n",
    "from keras.utils import to_categorical\n",
    "from keras.preprocessing import image\n",
    "import numpy as np\n",
    "import pandas as pd\n",
    "import matplotlib.pyplot as plt\n",
    "from keras.utils import to_categorical\n",
    "from tqdm import tqdm\n",
    "from sklearn.model_selection import train_test_split\n",
    "from keras.preprocessing.image import ImageDataGenerator, array_to_img, img_to_array, load_img\n",
    "\n",
    "from sklearn.preprocessing import LabelEncoder\n",
    "from sklearn.preprocessing import OneHotEncoder"
   ]
  },
  {
   "cell_type": "code",
   "execution_count": 98,
   "metadata": {},
   "outputs": [],
   "source": [
    "train = pd.read_csv('spec_df.csv')"
   ]
  },
  {
   "cell_type": "code",
   "execution_count": 99,
   "metadata": {},
   "outputs": [
    {
     "name": "stderr",
     "output_type": "stream",
     "text": [
      "100%|██████████| 461/461 [00:00<00:00, 485.00it/s]\n"
     ]
    }
   ],
   "source": [
    "from keras.preprocessing.image import ImageDataGenerator, array_to_img, img_to_array, load_img\n",
    "\n",
    "\n",
    "datagen = ImageDataGenerator(\n",
    "        rotation_range=40,\n",
    "        width_shift_range=0.2,\n",
    "        height_shift_range=0.2,\n",
    "        shear_range=0.2,\n",
    "        zoom_range=0.2,\n",
    "        horizontal_flip=True,\n",
    "        fill_mode='nearest')\n",
    "                     \n",
    "\n",
    "train_image = []\n",
    "for i in tqdm(range(train.shape[0])):\n",
    "    img = image.load_img(train['iname'][i], target_size=(28,28,3), grayscale=False)\n",
    "    img = image.img_to_array(img)\n",
    "    img = img/255\n",
    "    train_image.append(img)\n",
    "X = np.array(train_image)"
   ]
  },
  {
   "cell_type": "code",
   "execution_count": 100,
   "metadata": {},
   "outputs": [],
   "source": [
    "le = LabelEncoder() \n",
    "  \n",
    "train['label'] = le.fit_transform(train['label']) \n",
    "\n",
    "y=train['label'].values\n",
    "y = to_categorical(y)"
   ]
  },
  {
   "cell_type": "code",
   "execution_count": 101,
   "metadata": {},
   "outputs": [],
   "source": [
    "X_train, X_test, y_train, y_test = train_test_split(X, y, random_state=75, test_size=0.25, shuffle = True)"
   ]
  },
  {
   "cell_type": "code",
   "execution_count": 102,
   "metadata": {},
   "outputs": [],
   "source": [
    "datagen.fit(X_train)"
   ]
  },
  {
   "cell_type": "code",
   "execution_count": 103,
   "metadata": {},
   "outputs": [],
   "source": [
    "model = Sequential()\n",
    "model.add(Conv2D(32, kernel_size=(3, 3),activation='relu',input_shape=(28,28,3)))\n",
    "model.add(Conv2D(64, (3, 3), activation='relu'))\n",
    "model.add(MaxPooling2D(pool_size=(2, 2)))\n",
    "model.add(Dropout(0.25))\n",
    "model.add(Flatten())\n",
    "model.add(Dense(128, activation='relu'))\n",
    "model.add(Dropout(0.5))\n",
    "model.add(Dense(3, activation='softmax'))"
   ]
  },
  {
   "cell_type": "code",
   "execution_count": 104,
   "metadata": {},
   "outputs": [],
   "source": [
    "model.compile(loss='categorical_crossentropy',optimizer='Adam',metrics=['accuracy'])"
   ]
  },
  {
   "cell_type": "code",
   "execution_count": 105,
   "metadata": {},
   "outputs": [
    {
     "name": "stdout",
     "output_type": "stream",
     "text": [
      "Epoch 1/35\n",
      "11/11 [==============================] - 1s 77ms/step - loss: 0.9856 - accuracy: 0.5739\n",
      "Epoch 2/35\n",
      "11/11 [==============================] - 1s 68ms/step - loss: 0.9032 - accuracy: 0.6696\n",
      "Epoch 3/35\n",
      "11/11 [==============================] - 1s 68ms/step - loss: 0.8833 - accuracy: 0.6696\n",
      "Epoch 4/35\n",
      "11/11 [==============================] - 1s 60ms/step - loss: 0.8681 - accuracy: 0.6696\n",
      "Epoch 5/35\n",
      "11/11 [==============================] - 1s 58ms/step - loss: 0.8738 - accuracy: 0.6696\n",
      "Epoch 6/35\n",
      "11/11 [==============================] - 1s 62ms/step - loss: 0.8642 - accuracy: 0.6696\n",
      "Epoch 7/35\n",
      "11/11 [==============================] - 1s 62ms/step - loss: 0.8613 - accuracy: 0.6696\n",
      "Epoch 8/35\n",
      "11/11 [==============================] - 1s 56ms/step - loss: 0.8606 - accuracy: 0.6696\n",
      "Epoch 9/35\n",
      "11/11 [==============================] - 1s 62ms/step - loss: 0.8599 - accuracy: 0.6696\n",
      "Epoch 10/35\n",
      "11/11 [==============================] - 1s 68ms/step - loss: 0.8368 - accuracy: 0.6696\n",
      "Epoch 11/35\n",
      "11/11 [==============================] - 1s 65ms/step - loss: 0.8654 - accuracy: 0.6696\n",
      "Epoch 12/35\n",
      "11/11 [==============================] - 1s 62ms/step - loss: 0.8714 - accuracy: 0.6696\n",
      "Epoch 13/35\n",
      "11/11 [==============================] - 1s 62ms/step - loss: 0.8709 - accuracy: 0.6696\n",
      "Epoch 14/35\n",
      "11/11 [==============================] - 1s 64ms/step - loss: 0.8795 - accuracy: 0.6696\n",
      "Epoch 15/35\n",
      "11/11 [==============================] - 1s 64ms/step - loss: 0.8727 - accuracy: 0.6696\n",
      "Epoch 16/35\n",
      "11/11 [==============================] - 1s 63ms/step - loss: 0.8402 - accuracy: 0.6696\n",
      "Epoch 17/35\n",
      "11/11 [==============================] - 1s 64ms/step - loss: 0.8185 - accuracy: 0.6696\n",
      "Epoch 18/35\n",
      "11/11 [==============================] - 1s 62ms/step - loss: 0.8598 - accuracy: 0.6696\n",
      "Epoch 19/35\n",
      "11/11 [==============================] - 1s 64ms/step - loss: 0.8576 - accuracy: 0.6696\n",
      "Epoch 20/35\n",
      "11/11 [==============================] - 1s 65ms/step - loss: 0.8484 - accuracy: 0.6667\n",
      "Epoch 21/35\n",
      "11/11 [==============================] - 1s 64ms/step - loss: 0.8642 - accuracy: 0.6696\n",
      "Epoch 22/35\n",
      "11/11 [==============================] - 1s 69ms/step - loss: 0.8567 - accuracy: 0.6696\n",
      "Epoch 23/35\n",
      "11/11 [==============================] - 1s 68ms/step - loss: 0.8489 - accuracy: 0.6667\n",
      "Epoch 24/35\n",
      "11/11 [==============================] - 1s 70ms/step - loss: 0.8498 - accuracy: 0.6696\n",
      "Epoch 25/35\n",
      "11/11 [==============================] - 1s 67ms/step - loss: 0.8290 - accuracy: 0.6696\n",
      "Epoch 26/35\n",
      "11/11 [==============================] - 1s 66ms/step - loss: 0.8399 - accuracy: 0.6696\n",
      "Epoch 27/35\n",
      "11/11 [==============================] - 1s 65ms/step - loss: 0.8588 - accuracy: 0.6725\n",
      "Epoch 28/35\n",
      "11/11 [==============================] - 1s 61ms/step - loss: 0.8293 - accuracy: 0.6725\n",
      "Epoch 29/35\n",
      "11/11 [==============================] - 1s 62ms/step - loss: 0.8241 - accuracy: 0.6696\n",
      "Epoch 30/35\n",
      "11/11 [==============================] - 1s 63ms/step - loss: 0.8489 - accuracy: 0.6783\n",
      "Epoch 31/35\n",
      "11/11 [==============================] - 1s 62ms/step - loss: 0.8411 - accuracy: 0.6783\n",
      "Epoch 32/35\n",
      "11/11 [==============================] - 1s 57ms/step - loss: 0.8103 - accuracy: 0.6841\n",
      "Epoch 33/35\n",
      "11/11 [==============================] - 1s 60ms/step - loss: 0.8110 - accuracy: 0.6812\n",
      "Epoch 34/35\n",
      "11/11 [==============================] - 1s 68ms/step - loss: 0.8092 - accuracy: 0.6812\n",
      "Epoch 35/35\n",
      "11/11 [==============================] - 1s 66ms/step - loss: 0.8062 - accuracy: 0.6696\n"
     ]
    },
    {
     "data": {
      "text/plain": [
       "<keras.callbacks.callbacks.History at 0x197cc997c48>"
      ]
     },
     "execution_count": 105,
     "metadata": {},
     "output_type": "execute_result"
    }
   ],
   "source": [
    "model.fit_generator(datagen.flow(X_train, y_train, batch_size=32),epochs=35)"
   ]
  },
  {
   "cell_type": "code",
   "execution_count": 106,
   "metadata": {},
   "outputs": [
    {
     "name": "stdout",
     "output_type": "stream",
     "text": [
      "Model evaluation accuracy:  80\n"
     ]
    }
   ],
   "source": [
    "scores = model.evaluate(X_test, y_test, verbose = 0)\n",
    "print(\"Model evaluation accuracy: \", round(scores[1]*100))"
   ]
  },
  {
   "cell_type": "code",
   "execution_count": null,
   "metadata": {},
   "outputs": [],
   "source": []
  }
 ],
 "metadata": {
  "kernelspec": {
   "display_name": "Python 3",
   "language": "python",
   "name": "python3"
  },
  "language_info": {
   "codemirror_mode": {
    "name": "ipython",
    "version": 3
   },
   "file_extension": ".py",
   "mimetype": "text/x-python",
   "name": "python",
   "nbconvert_exporter": "python",
   "pygments_lexer": "ipython3",
   "version": "3.7.7"
  }
 },
 "nbformat": 4,
 "nbformat_minor": 4
}
