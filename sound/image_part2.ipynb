{
 "cells": [
  {
   "cell_type": "code",
   "execution_count": 28,
   "metadata": {},
   "outputs": [],
   "source": [
    "import tensorflow as tf\n",
    "import keras\n",
    "from keras.models import Sequential\n",
    "from keras.layers import Dense, Dropout, Flatten, Activation\n",
    "from keras.layers import Conv2D, MaxPooling2D, LSTM\n",
    "from keras.utils import to_categorical\n",
    "from keras.preprocessing import image\n",
    "import numpy as np\n",
    "import pandas as pd\n",
    "import matplotlib.pyplot as plt\n",
    "from keras.utils import to_categorical\n",
    "from tqdm import tqdm\n",
    "from sklearn.model_selection import train_test_split\n",
    "\n",
    "\n",
    "from sklearn.preprocessing import LabelEncoder\n",
    "from sklearn.preprocessing import OneHotEncoder\n",
    "# import PIL\n",
    "# from PIL import Image\n",
    "# from keras.preprocessing.image import img_to_array, load_img"
   ]
  },
  {
   "cell_type": "code",
   "execution_count": 29,
   "metadata": {},
   "outputs": [],
   "source": [
    "#train = pd.read_csv('images_df.csv')"
   ]
  },
  {
   "cell_type": "code",
   "execution_count": 30,
   "metadata": {},
   "outputs": [
    {
     "name": "stderr",
     "output_type": "stream",
     "text": [
      "100%|██████████| 461/461 [00:00<00:00, 604.17it/s]\n"
     ]
    }
   ],
   "source": [
    "from keras.preprocessing.image import ImageDataGenerator, array_to_img, img_to_array, load_img\n",
    "\n",
    "train = pd.read_csv('spec_df.csv')\n",
    "\n",
    "train_image = []\n",
    "for i in tqdm(range(train.shape[0])):\n",
    "    img = image.load_img(train['iname'][i], target_size=(28,28,3), grayscale=False)\n",
    "    img = image.img_to_array(img)\n",
    "    img = img/255\n",
    "    train_image.append(img)\n",
    "X = np.array(train_image)"
   ]
  },
  {
   "cell_type": "code",
   "execution_count": 31,
   "metadata": {},
   "outputs": [],
   "source": [
    "le = LabelEncoder() \n",
    "  \n",
    "train['label'] = le.fit_transform(train['label']) \n",
    "\n",
    "y=train['label'].values\n",
    "y = to_categorical(y)\n"
   ]
  },
  {
   "cell_type": "markdown",
   "metadata": {},
   "source": []
  },
  {
   "cell_type": "code",
   "execution_count": 32,
   "metadata": {},
   "outputs": [],
   "source": [
    "X_train, X_test, y_train, y_test = train_test_split(X, y, random_state=75, test_size=0.2, shuffle = True)"
   ]
  },
  {
   "cell_type": "code",
   "execution_count": 33,
   "metadata": {},
   "outputs": [],
   "source": [
    "model = Sequential()\n",
    "model.add(Conv2D(8, kernel_size=(3, 3),activation='relu',input_shape=(28,28,3)))\n",
    "model.add(Conv2D(8, (3, 3), activation='relu'))\n",
    "model.add(MaxPooling2D(pool_size=(2, 2)))\n",
    "model.add(Dropout(0.7))\n",
    "model.add(Flatten())\n",
    "model.add(Dense(16, activation='relu'))\n",
    "model.add(Dropout(0.7))\n",
    "model.add(Dense(16, activation='relu'))\n",
    "model.add(Dropout(0.7))\n",
    "model.add(Dense(32, activation='relu'))\n",
    "model.add(Dropout(0.7))\n",
    "model.add(Dense(32, activation='relu'))\n",
    "model.add(Dropout(0.7))\n",
    "model.add(Dense(64, activation='relu'))\n",
    "model.add(Dropout(0.7))\n",
    "model.add(Dense(64, activation='relu'))\n",
    "model.add(Dropout(0.7))\n",
    "model.add(Dense(128, activation='relu'))\n",
    "model.add(Dropout(0.7))\n",
    "model.add(Dense(128, activation='relu'))\n",
    "model.add(Dropout(0.7))\n",
    "model.add(Dense(3, activation='softmax'))"
   ]
  },
  {
   "cell_type": "code",
   "execution_count": 34,
   "metadata": {},
   "outputs": [],
   "source": [
    "model.compile(loss='categorical_crossentropy',optimizer='Adam',metrics=['accuracy'])"
   ]
  },
  {
   "cell_type": "code",
   "execution_count": 35,
   "metadata": {},
   "outputs": [
    {
     "name": "stdout",
     "output_type": "stream",
     "text": [
      "Train on 368 samples, validate on 93 samples\n",
      "Epoch 1/30\n",
      "368/368 [==============================] - 1s 2ms/step - loss: 1.3135 - accuracy: 0.4457 - val_loss: 1.0472 - val_accuracy: 0.7742\n",
      "Epoch 2/30\n",
      "368/368 [==============================] - 0s 442us/step - loss: 1.0250 - accuracy: 0.6386 - val_loss: 0.9914 - val_accuracy: 0.7742\n",
      "Epoch 3/30\n",
      "368/368 [==============================] - 0s 504us/step - loss: 0.9853 - accuracy: 0.6467 - val_loss: 0.9287 - val_accuracy: 0.7742\n",
      "Epoch 4/30\n",
      "368/368 [==============================] - 0s 444us/step - loss: 0.9478 - accuracy: 0.6630 - val_loss: 0.8687 - val_accuracy: 0.7742\n",
      "Epoch 5/30\n",
      "368/368 [==============================] - 0s 428us/step - loss: 0.9308 - accuracy: 0.6685 - val_loss: 0.8210 - val_accuracy: 0.7742\n",
      "Epoch 6/30\n",
      "368/368 [==============================] - 0s 390us/step - loss: 0.8686 - accuracy: 0.6739 - val_loss: 0.7836 - val_accuracy: 0.7742\n",
      "Epoch 7/30\n",
      "368/368 [==============================] - 0s 469us/step - loss: 0.9050 - accuracy: 0.6739 - val_loss: 0.7633 - val_accuracy: 0.7742\n",
      "Epoch 8/30\n",
      "368/368 [==============================] - 0s 431us/step - loss: 0.8820 - accuracy: 0.6739 - val_loss: 0.7403 - val_accuracy: 0.7742\n",
      "Epoch 9/30\n",
      "368/368 [==============================] - 0s 415us/step - loss: 0.8906 - accuracy: 0.6712 - val_loss: 0.7306 - val_accuracy: 0.7742\n",
      "Epoch 10/30\n",
      "368/368 [==============================] - 0s 463us/step - loss: 0.8676 - accuracy: 0.6739 - val_loss: 0.7265 - val_accuracy: 0.7742\n",
      "Epoch 11/30\n",
      "368/368 [==============================] - 0s 510us/step - loss: 0.8665 - accuracy: 0.6739 - val_loss: 0.7195 - val_accuracy: 0.7742\n",
      "Epoch 12/30\n",
      "368/368 [==============================] - 0s 577us/step - loss: 0.8656 - accuracy: 0.6739 - val_loss: 0.7120 - val_accuracy: 0.7742\n",
      "Epoch 13/30\n",
      "368/368 [==============================] - 0s 504us/step - loss: 0.8659 - accuracy: 0.6739 - val_loss: 0.7143 - val_accuracy: 0.7742\n",
      "Epoch 14/30\n",
      "368/368 [==============================] - 0s 436us/step - loss: 0.8731 - accuracy: 0.6739 - val_loss: 0.7169 - val_accuracy: 0.7742\n",
      "Epoch 15/30\n",
      "368/368 [==============================] - 0s 436us/step - loss: 0.8794 - accuracy: 0.6739 - val_loss: 0.7147 - val_accuracy: 0.7742\n",
      "Epoch 16/30\n",
      "368/368 [==============================] - 0s 434us/step - loss: 0.8555 - accuracy: 0.6739 - val_loss: 0.7164 - val_accuracy: 0.7742\n",
      "Epoch 17/30\n",
      "368/368 [==============================] - 0s 450us/step - loss: 0.8639 - accuracy: 0.6739 - val_loss: 0.7121 - val_accuracy: 0.7742\n",
      "Epoch 18/30\n",
      "368/368 [==============================] - 0s 472us/step - loss: 0.8547 - accuracy: 0.6739 - val_loss: 0.7037 - val_accuracy: 0.7742\n",
      "Epoch 19/30\n",
      "368/368 [==============================] - 0s 439us/step - loss: 0.8622 - accuracy: 0.6739 - val_loss: 0.7012 - val_accuracy: 0.7742\n",
      "Epoch 20/30\n",
      "368/368 [==============================] - 0s 412us/step - loss: 0.8676 - accuracy: 0.6739 - val_loss: 0.7024 - val_accuracy: 0.7742\n",
      "Epoch 21/30\n",
      "368/368 [==============================] - 0s 420us/step - loss: 0.8617 - accuracy: 0.6739 - val_loss: 0.7048 - val_accuracy: 0.7742\n",
      "Epoch 22/30\n",
      "368/368 [==============================] - 0s 528us/step - loss: 0.8584 - accuracy: 0.6739 - val_loss: 0.7010 - val_accuracy: 0.7742\n",
      "Epoch 23/30\n",
      "368/368 [==============================] - 0s 401us/step - loss: 0.8493 - accuracy: 0.6739 - val_loss: 0.7013 - val_accuracy: 0.7742\n",
      "Epoch 24/30\n",
      "368/368 [==============================] - 0s 398us/step - loss: 0.8689 - accuracy: 0.6739 - val_loss: 0.6990 - val_accuracy: 0.7742\n",
      "Epoch 25/30\n",
      "368/368 [==============================] - 0s 404us/step - loss: 0.8432 - accuracy: 0.6739 - val_loss: 0.6995 - val_accuracy: 0.7742\n",
      "Epoch 26/30\n",
      "368/368 [==============================] - 0s 401us/step - loss: 0.8562 - accuracy: 0.6739 - val_loss: 0.6998 - val_accuracy: 0.7742\n",
      "Epoch 27/30\n",
      "368/368 [==============================] - 0s 423us/step - loss: 0.8565 - accuracy: 0.6739 - val_loss: 0.6991 - val_accuracy: 0.7742\n",
      "Epoch 28/30\n",
      "368/368 [==============================] - 0s 412us/step - loss: 0.8459 - accuracy: 0.6739 - val_loss: 0.7006 - val_accuracy: 0.7742\n",
      "Epoch 29/30\n",
      "368/368 [==============================] - 0s 393us/step - loss: 0.8395 - accuracy: 0.6739 - val_loss: 0.6951 - val_accuracy: 0.7742\n",
      "Epoch 30/30\n",
      "368/368 [==============================] - 0s 393us/step - loss: 0.8641 - accuracy: 0.6739 - val_loss: 0.6974 - val_accuracy: 0.7742\n"
     ]
    },
    {
     "data": {
      "text/plain": [
       "<keras.callbacks.callbacks.History at 0x23009a77a08>"
      ]
     },
     "execution_count": 35,
     "metadata": {},
     "output_type": "execute_result"
    }
   ],
   "source": [
    "\n",
    "model.fit(X_train, y_train, epochs=30, validation_data=(X_test, y_test))"
   ]
  },
  {
   "cell_type": "code",
   "execution_count": 36,
   "metadata": {},
   "outputs": [
    {
     "name": "stdout",
     "output_type": "stream",
     "text": [
      "Model evaluation accuracy:  77\n",
      "Model training accuracy:  67\n"
     ]
    }
   ],
   "source": [
    "scores = model.evaluate(X_test, y_test, verbose = 0)\n",
    "print(\"Model evaluation accuracy: \", round(scores[1]*100))\n",
    "scores = model.evaluate(X_train, y_train, verbose = 0)\n",
    "print(\"Model training accuracy: \", round(scores[1]*100))"
   ]
  },
  {
   "cell_type": "code",
   "execution_count": null,
   "metadata": {},
   "outputs": [],
   "source": []
  },
  {
   "cell_type": "code",
   "execution_count": null,
   "metadata": {},
   "outputs": [],
   "source": []
  },
  {
   "cell_type": "code",
   "execution_count": null,
   "metadata": {},
   "outputs": [],
   "source": []
  },
  {
   "cell_type": "code",
   "execution_count": null,
   "metadata": {},
   "outputs": [],
   "source": []
  }
 ],
 "metadata": {
  "kernelspec": {
   "display_name": "Python 3",
   "language": "python",
   "name": "python3"
  },
  "language_info": {
   "codemirror_mode": {
    "name": "ipython",
    "version": 3
   },
   "file_extension": ".py",
   "mimetype": "text/x-python",
   "name": "python",
   "nbconvert_exporter": "python",
   "pygments_lexer": "ipython3",
   "version": "3.7.7"
  }
 },
 "nbformat": 4,
 "nbformat_minor": 4
}
