{
 "cells": [
  {
   "cell_type": "code",
   "execution_count": 2,
   "metadata": {},
   "outputs": [],
   "source": [
    "import tensorflow as tf\n",
    "import tensorflow.keras\n",
    "from tensorflow.keras.models import Sequential\n",
    "from tensorflow.keras.layers import Dense, Dropout, Flatten\n",
    "from tensorflow.keras.layers import Conv2D, MaxPooling2D, LSTM\n",
    "from tensorflow.keras.utils import to_categorical\n",
    "from tensorflow.keras.preprocessing import image\n",
    "import numpy as np\n",
    "import pandas as pd\n",
    "import matplotlib.pyplot as plt\n",
    "from tensorflow.keras.utils import to_categorical\n",
    "from tqdm import tqdm\n",
    "from sklearn.model_selection import train_test_split\n",
    "from tensorflow.keras.preprocessing.image import ImageDataGenerator, array_to_img, img_to_array, load_img\n",
    "\n",
    "from sklearn.preprocessing import LabelEncoder\n",
    "from sklearn.preprocessing import OneHotEncoder"
   ]
  },
  {
   "cell_type": "code",
   "execution_count": 3,
   "metadata": {},
   "outputs": [],
   "source": [
    "\n",
    "train = pd.read_csv('spec_df.csv')"
   ]
  },
  {
   "cell_type": "code",
   "execution_count": 4,
   "metadata": {},
   "outputs": [
    {
     "name": "stderr",
     "output_type": "stream",
     "text": [
      "100%|███████████████████████████████████████████████████████████████████████████████| 461/461 [00:01<00:00, 256.59it/s]\n"
     ]
    }
   ],
   "source": [
    "from tensorflow.keras.preprocessing.image import ImageDataGenerator, array_to_img, img_to_array, load_img\n",
    "\n",
    "\n",
    "datagen = ImageDataGenerator(\n",
    "        rotation_range=40,\n",
    "        width_shift_range=0.2,\n",
    "        height_shift_range=0.2,\n",
    "        shear_range=0.2,\n",
    "        zoom_range=0.2,\n",
    "        horizontal_flip=True,\n",
    "        fill_mode='nearest')\n",
    "                     \n",
    "\n",
    "train_image = []\n",
    "for i in tqdm(range(train.shape[0])):\n",
    "    img = image.load_img(train['iname'][i], target_size=(28,28,3), grayscale=False)\n",
    "    img = image.img_to_array(img)\n",
    "    img = img/255\n",
    "    train_image.append(img)\n",
    "X = np.array(train_image)"
   ]
  },
  {
   "cell_type": "code",
   "execution_count": 5,
   "metadata": {},
   "outputs": [],
   "source": [
    "le = LabelEncoder() \n",
    "  \n",
    "train['label'] = le.fit_transform(train['label']) \n",
    "\n",
    "y=train['label'].values\n",
    "y = to_categorical(y)"
   ]
  },
  {
   "cell_type": "code",
   "execution_count": 6,
   "metadata": {},
   "outputs": [],
   "source": [
    "X_train, X_test, y_train, y_test = train_test_split(X, y, random_state=75, test_size=0.25, shuffle = True)"
   ]
  },
  {
   "cell_type": "code",
   "execution_count": 7,
   "metadata": {},
   "outputs": [],
   "source": [
    "datagen.fit(X_train)"
   ]
  },
  {
   "cell_type": "code",
   "execution_count": 8,
   "metadata": {},
   "outputs": [
    {
     "name": "stdout",
     "output_type": "stream",
     "text": [
      "X_train shape: (345, 28, 28, 3)\n",
      "345 train samples\n",
      "116 test samples\n"
     ]
    }
   ],
   "source": [
    "print('X_train shape:', X_train.shape)\n",
    "print(X_train.shape[0], 'train samples')\n",
    "print(X_test.shape[0], 'test samples')"
   ]
  },
  {
   "cell_type": "code",
   "execution_count": 9,
   "metadata": {},
   "outputs": [],
   "source": [
    "x_train = np.array(X_train).reshape((345, 28, -1))\n",
    "x_test = np.array(X_test).reshape((116, 28, -1))"
   ]
  },
  {
   "cell_type": "code",
   "execution_count": 11,
   "metadata": {},
   "outputs": [
    {
     "name": "stdout",
     "output_type": "stream",
     "text": [
      "X_train shape: (345, 28, 84)\n",
      "345 train samples\n",
      "116 test samples\n"
     ]
    }
   ],
   "source": [
    "print('X_train shape:', x_train.shape)\n",
    "print(x_train.shape[0], 'train samples')\n",
    "print(x_test.shape[0], 'test samples')"
   ]
  },
  {
   "cell_type": "code",
   "execution_count": 13,
   "metadata": {},
   "outputs": [],
   "source": [
    "from tensorflow.keras.layers import TimeDistributed\n",
    "from tensorflow.keras.layers import AveragePooling1D\n",
    "from tensorflow.keras.losses import categorical_crossentropy\n",
    "from tensorflow.keras.optimizers import RMSprop"
   ]
  },
  {
   "cell_type": "code",
   "execution_count": 16,
   "metadata": {},
   "outputs": [],
   "source": [
    "batch_size = 128\n",
    "nb_epoch = 100\n",
    "\n",
    "# Parameters for MNIST dataset\n",
    "img_rows, img_cols = 28, 28\n",
    "nb_classes = 3\n",
    "\n",
    "# Parameters for LSTM network\n",
    "nb_lstm_outputs = 30\n",
    "nb_time_steps = img_rows\n",
    "dim_input_vector = img_cols\n"
   ]
  },
  {
   "cell_type": "code",
   "execution_count": 17,
   "metadata": {},
   "outputs": [],
   "source": [
    "model = Sequential()\n",
    "model.add(LSTM(64, input_shape=(28, 84), return_sequences=True, implementation=2))\n",
    "model.add(TimeDistributed(Dense(1)))\n",
    "model.add(AveragePooling1D())\n",
    "\n",
    "model.add(Flatten())\n",
    "\n",
    "model.add(Dense(3, activation='softmax'))\n",
    "model.compile(loss=categorical_crossentropy, optimizer=RMSprop(lr=.01),metrics=['accuracy'])"
   ]
  },
  {
   "cell_type": "code",
   "execution_count": 18,
   "metadata": {},
   "outputs": [
    {
     "name": "stdout",
     "output_type": "stream",
     "text": [
      "Train on 345 samples, validate on 116 samples\n",
      "Epoch 1/100\n",
      "345/345 [==============================] - 2s 6ms/step - loss: 1.5084 - acc: 0.3275 - val_loss: 0.8017 - val_acc: 0.7672\n",
      "Epoch 2/100\n",
      "345/345 [==============================] - 0s 904us/step - loss: 0.8817 - acc: 0.6696 - val_loss: 0.7351 - val_acc: 0.7672\n",
      "Epoch 3/100\n",
      "345/345 [==============================] - 0s 740us/step - loss: 0.8523 - acc: 0.6696 - val_loss: 0.7113 - val_acc: 0.7672\n",
      "Epoch 4/100\n",
      "345/345 [==============================] - 0s 786us/step - loss: 0.8481 - acc: 0.6696 - val_loss: 0.7092 - val_acc: 0.7672\n",
      "Epoch 5/100\n",
      "345/345 [==============================] - 0s 776us/step - loss: 0.8438 - acc: 0.6696 - val_loss: 0.7162 - val_acc: 0.7672\n",
      "Epoch 6/100\n",
      "345/345 [==============================] - 0s 795us/step - loss: 0.8430 - acc: 0.6696 - val_loss: 0.6987 - val_acc: 0.7672\n",
      "Epoch 7/100\n",
      "345/345 [==============================] - 0s 708us/step - loss: 0.8439 - acc: 0.6696 - val_loss: 0.6865 - val_acc: 0.7672\n",
      "Epoch 8/100\n",
      "345/345 [==============================] - 0s 676us/step - loss: 0.8405 - acc: 0.6696 - val_loss: 0.7207 - val_acc: 0.7672\n",
      "Epoch 9/100\n",
      "345/345 [==============================] - 0s 680us/step - loss: 0.8391 - acc: 0.6696 - val_loss: 0.6819 - val_acc: 0.7672\n",
      "Epoch 10/100\n",
      "345/345 [==============================] - 0s 727us/step - loss: 0.8672 - acc: 0.6696 - val_loss: 0.7974 - val_acc: 0.7672\n",
      "Epoch 11/100\n",
      "345/345 [==============================] - 0s 720us/step - loss: 0.8445 - acc: 0.6696 - val_loss: 0.6905 - val_acc: 0.7672\n",
      "Epoch 12/100\n",
      "345/345 [==============================] - 0s 657us/step - loss: 0.8338 - acc: 0.6696 - val_loss: 0.6968 - val_acc: 0.7672\n",
      "Epoch 13/100\n",
      "345/345 [==============================] - 0s 737us/step - loss: 0.8348 - acc: 0.6696 - val_loss: 0.6864 - val_acc: 0.7672\n",
      "Epoch 14/100\n",
      "345/345 [==============================] - 0s 766us/step - loss: 0.8358 - acc: 0.6696 - val_loss: 0.8154 - val_acc: 0.7672\n",
      "Epoch 15/100\n",
      "345/345 [==============================] - 0s 849us/step - loss: 0.8480 - acc: 0.6696 - val_loss: 0.6696 - val_acc: 0.7672\n",
      "Epoch 16/100\n",
      "345/345 [==============================] - 0s 694us/step - loss: 0.8660 - acc: 0.6696 - val_loss: 0.6858 - val_acc: 0.7672\n",
      "Epoch 17/100\n",
      "345/345 [==============================] - 0s 757us/step - loss: 0.8348 - acc: 0.6696 - val_loss: 0.6643 - val_acc: 0.7672\n",
      "Epoch 18/100\n",
      "345/345 [==============================] - 0s 744us/step - loss: 0.8703 - acc: 0.6696 - val_loss: 0.7405 - val_acc: 0.7672\n",
      "Epoch 19/100\n",
      "345/345 [==============================] - 0s 788us/step - loss: 0.8265 - acc: 0.6696 - val_loss: 0.7014 - val_acc: 0.7672\n",
      "Epoch 20/100\n",
      "345/345 [==============================] - 0s 668us/step - loss: 0.8181 - acc: 0.6696 - val_loss: 0.6544 - val_acc: 0.7672\n",
      "Epoch 21/100\n",
      "345/345 [==============================] - 0s 684us/step - loss: 0.8222 - acc: 0.6696 - val_loss: 0.6562 - val_acc: 0.7672\n",
      "Epoch 22/100\n",
      "345/345 [==============================] - 0s 648us/step - loss: 0.7949 - acc: 0.6696 - val_loss: 0.6536 - val_acc: 0.7672\n",
      "Epoch 23/100\n",
      "345/345 [==============================] - 0s 687us/step - loss: 0.8145 - acc: 0.6696 - val_loss: 0.7548 - val_acc: 0.7672\n",
      "Epoch 24/100\n",
      "345/345 [==============================] - 0s 695us/step - loss: 0.8105 - acc: 0.6696 - val_loss: 0.7784 - val_acc: 0.7672\n",
      "Epoch 25/100\n",
      "345/345 [==============================] - 0s 654us/step - loss: 0.8058 - acc: 0.6696 - val_loss: 0.6614 - val_acc: 0.7672\n",
      "Epoch 26/100\n",
      "345/345 [==============================] - 0s 628us/step - loss: 0.7861 - acc: 0.6696 - val_loss: 0.6319 - val_acc: 0.7672\n",
      "Epoch 27/100\n",
      "345/345 [==============================] - 0s 695us/step - loss: 0.7560 - acc: 0.6696 - val_loss: 0.6165 - val_acc: 0.7672\n",
      "Epoch 28/100\n",
      "345/345 [==============================] - 0s 858us/step - loss: 0.7323 - acc: 0.6696 - val_loss: 0.6743 - val_acc: 0.7759\n",
      "Epoch 29/100\n",
      "345/345 [==============================] - 0s 727us/step - loss: 0.7975 - acc: 0.6725 - val_loss: 0.6082 - val_acc: 0.7672\n",
      "Epoch 30/100\n",
      "345/345 [==============================] - 0s 666us/step - loss: 0.7127 - acc: 0.6696 - val_loss: 0.5815 - val_acc: 0.7672\n",
      "Epoch 31/100\n",
      "345/345 [==============================] - 0s 603us/step - loss: 0.7290 - acc: 0.6841 - val_loss: 0.6056 - val_acc: 0.7672\n",
      "Epoch 32/100\n",
      "345/345 [==============================] - 0s 645us/step - loss: 0.6832 - acc: 0.6986 - val_loss: 0.5528 - val_acc: 0.7759\n",
      "Epoch 33/100\n",
      "345/345 [==============================] - 0s 762us/step - loss: 0.6547 - acc: 0.7101 - val_loss: 0.5397 - val_acc: 0.7672\n",
      "Epoch 34/100\n",
      "345/345 [==============================] - 0s 693us/step - loss: 0.6411 - acc: 0.7188 - val_loss: 0.5363 - val_acc: 0.7672\n",
      "Epoch 35/100\n",
      "345/345 [==============================] - 0s 647us/step - loss: 0.6873 - acc: 0.6928 - val_loss: 0.5323 - val_acc: 0.7586\n",
      "Epoch 36/100\n",
      "345/345 [==============================] - 0s 685us/step - loss: 0.6111 - acc: 0.7217 - val_loss: 0.5140 - val_acc: 0.7586\n",
      "Epoch 37/100\n",
      "345/345 [==============================] - 0s 743us/step - loss: 0.6159 - acc: 0.7072 - val_loss: 0.6042 - val_acc: 0.7931\n",
      "Epoch 38/100\n",
      "345/345 [==============================] - 0s 843us/step - loss: 0.6083 - acc: 0.7246 - val_loss: 0.5045 - val_acc: 0.7672\n",
      "Epoch 39/100\n",
      "345/345 [==============================] - 0s 649us/step - loss: 0.5726 - acc: 0.7565 - val_loss: 0.5116 - val_acc: 0.8017\n",
      "Epoch 40/100\n",
      "345/345 [==============================] - 0s 708us/step - loss: 0.5563 - acc: 0.7478 - val_loss: 0.5627 - val_acc: 0.8190\n",
      "Epoch 41/100\n",
      "345/345 [==============================] - 0s 527us/step - loss: 0.5581 - acc: 0.7884 - val_loss: 0.4640 - val_acc: 0.7759\n",
      "Epoch 42/100\n",
      "345/345 [==============================] - 0s 646us/step - loss: 0.5234 - acc: 0.7826 - val_loss: 0.4590 - val_acc: 0.7931\n",
      "Epoch 43/100\n",
      "345/345 [==============================] - 0s 695us/step - loss: 0.5718 - acc: 0.7478 - val_loss: 0.5654 - val_acc: 0.8448\n",
      "Epoch 44/100\n",
      "345/345 [==============================] - 0s 676us/step - loss: 0.5524 - acc: 0.7884 - val_loss: 0.4532 - val_acc: 0.8103\n",
      "Epoch 45/100\n",
      "345/345 [==============================] - 0s 690us/step - loss: 0.4985 - acc: 0.8116 - val_loss: 0.4309 - val_acc: 0.7931\n",
      "Epoch 46/100\n",
      "345/345 [==============================] - 0s 695us/step - loss: 0.4901 - acc: 0.7797 - val_loss: 0.4297 - val_acc: 0.8276\n",
      "Epoch 47/100\n",
      "345/345 [==============================] - 0s 723us/step - loss: 0.4688 - acc: 0.8116 - val_loss: 0.4348 - val_acc: 0.8448\n",
      "Epoch 48/100\n",
      "345/345 [==============================] - 0s 614us/step - loss: 0.4996 - acc: 0.8029 - val_loss: 0.4209 - val_acc: 0.8276\n",
      "Epoch 49/100\n",
      "345/345 [==============================] - 0s 670us/step - loss: 0.4571 - acc: 0.8261 - val_loss: 0.4645 - val_acc: 0.8017\n",
      "Epoch 50/100\n",
      "345/345 [==============================] - 0s 654us/step - loss: 0.4852 - acc: 0.8116 - val_loss: 0.4121 - val_acc: 0.8448\n",
      "Epoch 51/100\n",
      "345/345 [==============================] - 0s 610us/step - loss: 0.4650 - acc: 0.8116 - val_loss: 0.3976 - val_acc: 0.8362\n",
      "Epoch 52/100\n",
      "345/345 [==============================] - 0s 715us/step - loss: 0.4292 - acc: 0.8348 - val_loss: 0.3934 - val_acc: 0.8707\n",
      "Epoch 53/100\n",
      "345/345 [==============================] - 0s 609us/step - loss: 0.4226 - acc: 0.8348 - val_loss: 0.3898 - val_acc: 0.8879\n",
      "Epoch 54/100\n",
      "345/345 [==============================] - 0s 623us/step - loss: 0.4069 - acc: 0.8348 - val_loss: 0.3908 - val_acc: 0.8276\n",
      "Epoch 55/100\n",
      "345/345 [==============================] - 0s 598us/step - loss: 0.5025 - acc: 0.7855 - val_loss: 0.4148 - val_acc: 0.8621\n",
      "Epoch 56/100\n",
      "345/345 [==============================] - 0s 629us/step - loss: 0.3948 - acc: 0.8580 - val_loss: 0.3822 - val_acc: 0.8621\n",
      "Epoch 57/100\n",
      "345/345 [==============================] - 0s 691us/step - loss: 0.3862 - acc: 0.8551 - val_loss: 0.4207 - val_acc: 0.8621\n",
      "Epoch 58/100\n",
      "345/345 [==============================] - 0s 644us/step - loss: 0.4469 - acc: 0.8319 - val_loss: 0.3774 - val_acc: 0.8707\n",
      "Epoch 59/100\n",
      "345/345 [==============================] - 0s 594us/step - loss: 0.4062 - acc: 0.8551 - val_loss: 0.3594 - val_acc: 0.8879\n",
      "Epoch 60/100\n",
      "345/345 [==============================] - 0s 571us/step - loss: 0.3834 - acc: 0.8522 - val_loss: 0.3817 - val_acc: 0.8707\n"
     ]
    },
    {
     "name": "stdout",
     "output_type": "stream",
     "text": [
      "Epoch 61/100\n",
      "345/345 [==============================] - 0s 629us/step - loss: 0.3719 - acc: 0.8638 - val_loss: 0.3616 - val_acc: 0.8879\n",
      "Epoch 62/100\n",
      "345/345 [==============================] - 0s 602us/step - loss: 0.3600 - acc: 0.8696 - val_loss: 0.4316 - val_acc: 0.8707\n",
      "Epoch 63/100\n",
      "345/345 [==============================] - 0s 742us/step - loss: 0.3684 - acc: 0.8609 - val_loss: 0.3708 - val_acc: 0.8448\n",
      "Epoch 64/100\n",
      "345/345 [==============================] - 0s 639us/step - loss: 0.3915 - acc: 0.8464 - val_loss: 0.3616 - val_acc: 0.8793\n",
      "Epoch 65/100\n",
      "345/345 [==============================] - 0s 658us/step - loss: 0.3599 - acc: 0.8580 - val_loss: 0.3477 - val_acc: 0.8793\n",
      "Epoch 66/100\n",
      "345/345 [==============================] - 0s 636us/step - loss: 0.3450 - acc: 0.8725 - val_loss: 0.3496 - val_acc: 0.8793\n",
      "Epoch 67/100\n",
      "345/345 [==============================] - 0s 689us/step - loss: 0.3245 - acc: 0.8841 - val_loss: 0.3989 - val_acc: 0.8362\n",
      "Epoch 68/100\n",
      "345/345 [==============================] - 0s 707us/step - loss: 0.3972 - acc: 0.8406 - val_loss: 0.3677 - val_acc: 0.8879\n",
      "Epoch 69/100\n",
      "345/345 [==============================] - 0s 582us/step - loss: 0.3257 - acc: 0.8783 - val_loss: 0.3300 - val_acc: 0.8879\n",
      "Epoch 70/100\n",
      "345/345 [==============================] - 0s 627us/step - loss: 0.3104 - acc: 0.8754 - val_loss: 0.4024 - val_acc: 0.8534\n",
      "Epoch 71/100\n",
      "345/345 [==============================] - 0s 621us/step - loss: 0.4034 - acc: 0.8232 - val_loss: 0.5151 - val_acc: 0.7500\n",
      "Epoch 72/100\n",
      "345/345 [==============================] - 0s 633us/step - loss: 0.4278 - acc: 0.7884 - val_loss: 0.3800 - val_acc: 0.8448\n",
      "Epoch 73/100\n",
      "345/345 [==============================] - 0s 702us/step - loss: 0.3964 - acc: 0.8667 - val_loss: 0.3351 - val_acc: 0.8793\n",
      "Epoch 74/100\n",
      "345/345 [==============================] - 0s 606us/step - loss: 0.3145 - acc: 0.8870 - val_loss: 0.3299 - val_acc: 0.8879\n",
      "Epoch 75/100\n",
      "345/345 [==============================] - 0s 562us/step - loss: 0.3010 - acc: 0.8957 - val_loss: 0.3542 - val_acc: 0.8707\n",
      "Epoch 76/100\n",
      "345/345 [==============================] - 0s 556us/step - loss: 0.3153 - acc: 0.8957 - val_loss: 0.3176 - val_acc: 0.8879\n",
      "Epoch 77/100\n",
      "345/345 [==============================] - 0s 626us/step - loss: 0.2865 - acc: 0.9101 - val_loss: 0.3341 - val_acc: 0.8879\n",
      "Epoch 78/100\n",
      "345/345 [==============================] - 0s 702us/step - loss: 0.3250 - acc: 0.8580 - val_loss: 0.3684 - val_acc: 0.8879\n",
      "Epoch 79/100\n",
      "345/345 [==============================] - 0s 625us/step - loss: 0.2997 - acc: 0.8870 - val_loss: 0.3133 - val_acc: 0.8966\n",
      "Epoch 80/100\n",
      "345/345 [==============================] - 0s 624us/step - loss: 0.2671 - acc: 0.9072 - val_loss: 0.3083 - val_acc: 0.8793\n",
      "Epoch 81/100\n",
      "345/345 [==============================] - 0s 625us/step - loss: 0.2586 - acc: 0.9101 - val_loss: 0.4011 - val_acc: 0.8621\n",
      "Epoch 82/100\n",
      "345/345 [==============================] - 0s 622us/step - loss: 0.2962 - acc: 0.8812 - val_loss: 0.3186 - val_acc: 0.9052\n",
      "Epoch 83/100\n",
      "345/345 [==============================] - 0s 712us/step - loss: 0.3004 - acc: 0.8754 - val_loss: 0.5349 - val_acc: 0.7500\n",
      "Epoch 84/100\n",
      "345/345 [==============================] - 0s 626us/step - loss: 0.3498 - acc: 0.8377 - val_loss: 0.3593 - val_acc: 0.8707\n",
      "Epoch 85/100\n",
      "345/345 [==============================] - 0s 585us/step - loss: 0.3308 - acc: 0.8493 - val_loss: 0.2963 - val_acc: 0.9224\n",
      "Epoch 86/100\n",
      "345/345 [==============================] - 0s 615us/step - loss: 0.2520 - acc: 0.9014 - val_loss: 0.2912 - val_acc: 0.9224\n",
      "Epoch 87/100\n",
      "345/345 [==============================] - 0s 644us/step - loss: 0.2817 - acc: 0.8783 - val_loss: 0.2947 - val_acc: 0.9052\n",
      "Epoch 88/100\n",
      "345/345 [==============================] - 0s 715us/step - loss: 0.2461 - acc: 0.9159 - val_loss: 0.2824 - val_acc: 0.9224\n",
      "Epoch 89/100\n",
      "345/345 [==============================] - 0s 643us/step - loss: 0.2323 - acc: 0.9072 - val_loss: 0.2851 - val_acc: 0.9052\n",
      "Epoch 90/100\n",
      "345/345 [==============================] - 0s 679us/step - loss: 0.2286 - acc: 0.9391 - val_loss: 0.2917 - val_acc: 0.9052\n",
      "Epoch 91/100\n",
      "345/345 [==============================] - 0s 697us/step - loss: 0.2274 - acc: 0.9188 - val_loss: 0.4060 - val_acc: 0.8621\n",
      "Epoch 92/100\n",
      "345/345 [==============================] - 0s 678us/step - loss: 0.2698 - acc: 0.9159 - val_loss: 0.2740 - val_acc: 0.9397\n",
      "Epoch 93/100\n",
      "345/345 [==============================] - 0s 804us/step - loss: 0.2067 - acc: 0.9246 - val_loss: 0.3246 - val_acc: 0.8879\n",
      "Epoch 94/100\n",
      "345/345 [==============================] - 0s 634us/step - loss: 0.2607 - acc: 0.8928 - val_loss: 0.3258 - val_acc: 0.8879\n",
      "Epoch 95/100\n",
      "345/345 [==============================] - 0s 630us/step - loss: 0.1994 - acc: 0.9188 - val_loss: 0.2990 - val_acc: 0.9138\n",
      "Epoch 96/100\n",
      "345/345 [==============================] - 0s 603us/step - loss: 0.1921 - acc: 0.9391 - val_loss: 0.2646 - val_acc: 0.9310\n",
      "Epoch 97/100\n",
      "345/345 [==============================] - 0s 614us/step - loss: 0.1654 - acc: 0.9391 - val_loss: 0.2650 - val_acc: 0.9310\n",
      "Epoch 98/100\n",
      "345/345 [==============================] - 0s 723us/step - loss: 0.1592 - acc: 0.9362 - val_loss: 0.3075 - val_acc: 0.9052\n",
      "Epoch 99/100\n",
      "345/345 [==============================] - 0s 615us/step - loss: 0.2668 - acc: 0.8841 - val_loss: 0.4463 - val_acc: 0.8534\n",
      "Epoch 100/100\n",
      "345/345 [==============================] - 0s 599us/step - loss: 0.3491 - acc: 0.8638 - val_loss: 0.3162 - val_acc: 0.8793\n",
      "116/116 [==============================] - 0s 186us/step\n",
      "Summary: Loss over the test dataset: 0.32, Accuracy: 0.88\n"
     ]
    }
   ],
   "source": [
    "# Train\n",
    "history = model.fit(x_train, y_train, epochs=nb_epoch, batch_size=batch_size, shuffle=True, verbose=1, validation_data=(x_test, y_test))\n",
    "\n",
    "# EvaluateX_train, y_train, epochs=35, validation_data=(X_test, y_test)\n",
    "evaluation = model.evaluate(x_test, y_test, batch_size=batch_size, verbose=1)\n",
    "print('Summary: Loss over the test dataset: %.2f, Accuracy: %.2f' % (evaluation[0], evaluation[1]))"
   ]
  },
  {
   "cell_type": "code",
   "execution_count": null,
   "metadata": {},
   "outputs": [],
   "source": []
  }
 ],
 "metadata": {
  "kernelspec": {
   "display_name": "Python 3",
   "language": "python",
   "name": "python3"
  },
  "language_info": {
   "codemirror_mode": {
    "name": "ipython",
    "version": 3
   },
   "file_extension": ".py",
   "mimetype": "text/x-python",
   "name": "python",
   "nbconvert_exporter": "python",
   "pygments_lexer": "ipython3",
   "version": "3.6.5"
  }
 },
 "nbformat": 4,
 "nbformat_minor": 4
}
