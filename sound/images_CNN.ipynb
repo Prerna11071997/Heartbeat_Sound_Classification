{
 "cells": [
  {
   "cell_type": "code",
   "execution_count": 103,
   "metadata": {},
   "outputs": [],
   "source": [
    "import tensorflow as tf\n",
    "import keras\n",
    "from keras.models import Sequential\n",
    "from keras.layers import Dense, Dropout, Flatten\n",
    "from keras.layers import Conv2D, MaxPooling2D, LSTM\n",
    "from keras.utils import to_categorical\n",
    "from keras.preprocessing import image\n",
    "import numpy as np\n",
    "import pandas as pd\n",
    "import matplotlib.pyplot as plt\n",
    "from keras.utils import to_categorical\n",
    "from tqdm import tqdm\n",
    "from sklearn.model_selection import train_test_split\n",
    "\n",
    "\n",
    "from sklearn.preprocessing import LabelEncoder\n",
    "from sklearn.preprocessing import OneHotEncoder\n",
    "# import PIL\n",
    "# from PIL import Image\n",
    "# from keras.preprocessing.image import img_to_array, load_img"
   ]
  },
  {
   "cell_type": "code",
   "execution_count": 104,
   "metadata": {},
   "outputs": [],
   "source": [
    "train = pd.read_csv('spec_df.csv')"
   ]
  },
  {
   "cell_type": "code",
   "execution_count": 105,
   "metadata": {},
   "outputs": [
    {
     "name": "stderr",
     "output_type": "stream",
     "text": [
      "100%|██████████| 461/461 [00:00<00:00, 605.40it/s]\n"
     ]
    }
   ],
   "source": [
    "train_image = []\n",
    "for i in tqdm(range(train.shape[0])):\n",
    "    img = image.load_img(train['iname'][i], target_size=(28,28,3), grayscale=False)\n",
    "    img = image.img_to_array(img)\n",
    "    img = img/255\n",
    "    train_image.append(img)\n",
    "X = np.array(train_image)\n",
    "\n"
   ]
  },
  {
   "cell_type": "code",
   "execution_count": 106,
   "metadata": {},
   "outputs": [],
   "source": [
    "le = LabelEncoder() \n",
    "\n",
    "train['label'] = le.fit_transform(train['label']) \n",
    "\n",
    "y=train['label'].values\n",
    "\n",
    "y = to_categorical(y)\n"
   ]
  },
  {
   "cell_type": "markdown",
   "metadata": {},
   "source": [
    "look in the error..dtype is int but the stype of our label is str\n",
    "\n",
    "The following are totally acceptable in python:\n",
    "\n",
    "passing a string representation of an integer into int\n",
    "passing a string representation of a float into float\n",
    "passing a string representation of an integer into float\n",
    "passing a float into int\n",
    "passing an integer into float\n",
    "\n",
    "But you get a ValueError if you pass a string representation of a float into int, or a string representation of anything but an integer (including empty string). If you do want to pass a string representation of a float to an int, as @katyhuff points out above, you can convert to a float first, then to an integer:\n",
    "\n",
    "Link: https://stackoverflow.com/questions/1841565/valueerror-invalid-literal-for-int-with-base-10\n",
    "\n",
    "i think the reason the second one doesnt work is because the label is not representation of an integer or float\n",
    "\n",
    "u can use other way to categorise the data : try one hot encoding"
   ]
  },
  {
   "cell_type": "code",
   "execution_count": 107,
   "metadata": {},
   "outputs": [],
   "source": [
    "X_train, X_test, y_train, y_test = train_test_split(X, y, random_state=75, test_size=0.25, shuffle = True)"
   ]
  },
  {
   "cell_type": "code",
   "execution_count": 108,
   "metadata": {},
   "outputs": [],
   "source": [
    "model = Sequential()\n",
    "model.add(Conv2D(32, kernel_size=(3, 3),activation='relu',input_shape=(28,28,3)))\n",
    "model.add(Conv2D(64, (3, 3), activation='relu'))\n",
    "model.add(MaxPooling2D(pool_size=(2, 2)))\n",
    "model.add(Dropout(0.25))\n",
    "model.add(Flatten())\n",
    "model.add(Dense(128, activation='relu'))\n",
    "model.add(Dropout(0.5))\n",
    "model.add(Dense(3, activation='softmax'))"
   ]
  },
  {
   "cell_type": "code",
   "execution_count": 109,
   "metadata": {},
   "outputs": [],
   "source": [
    "model.compile(loss='categorical_crossentropy',optimizer='Adam',metrics=['accuracy'])"
   ]
  },
  {
   "cell_type": "code",
   "execution_count": 110,
   "metadata": {},
   "outputs": [
    {
     "name": "stdout",
     "output_type": "stream",
     "text": [
      "Train on 345 samples, validate on 116 samples\n",
      "Epoch 1/30\n",
      "345/345 [==============================] - 1s 2ms/step - loss: 1.0328 - accuracy: 0.5768 - val_loss: 0.7866 - val_accuracy: 0.7672\n",
      "Epoch 2/30\n",
      "345/345 [==============================] - 1s 2ms/step - loss: 0.8693 - accuracy: 0.6696 - val_loss: 0.7119 - val_accuracy: 0.7672\n",
      "Epoch 3/30\n",
      "345/345 [==============================] - 1s 2ms/step - loss: 0.8394 - accuracy: 0.6696 - val_loss: 0.6549 - val_accuracy: 0.7672\n",
      "Epoch 4/30\n",
      "345/345 [==============================] - 1s 2ms/step - loss: 0.8199 - accuracy: 0.6754 - val_loss: 0.7149 - val_accuracy: 0.7759\n",
      "Epoch 5/30\n",
      "345/345 [==============================] - 1s 2ms/step - loss: 0.7440 - accuracy: 0.6870 - val_loss: 0.5816 - val_accuracy: 0.7845\n",
      "Epoch 6/30\n",
      "345/345 [==============================] - 1s 2ms/step - loss: 0.6699 - accuracy: 0.7101 - val_loss: 0.5102 - val_accuracy: 0.7845\n",
      "Epoch 7/30\n",
      "345/345 [==============================] - 1s 2ms/step - loss: 0.5994 - accuracy: 0.7710 - val_loss: 0.5154 - val_accuracy: 0.8190\n",
      "Epoch 8/30\n",
      "345/345 [==============================] - 1s 2ms/step - loss: 0.5598 - accuracy: 0.7710 - val_loss: 0.4326 - val_accuracy: 0.8534\n",
      "Epoch 9/30\n",
      "345/345 [==============================] - 1s 2ms/step - loss: 0.4830 - accuracy: 0.8029 - val_loss: 0.3579 - val_accuracy: 0.8621\n",
      "Epoch 10/30\n",
      "345/345 [==============================] - 1s 2ms/step - loss: 0.3832 - accuracy: 0.8609 - val_loss: 0.3315 - val_accuracy: 0.8707\n",
      "Epoch 11/30\n",
      "345/345 [==============================] - 1s 2ms/step - loss: 0.4259 - accuracy: 0.8725 - val_loss: 0.3079 - val_accuracy: 0.8879\n",
      "Epoch 12/30\n",
      "345/345 [==============================] - 1s 2ms/step - loss: 0.3346 - accuracy: 0.8928 - val_loss: 0.2862 - val_accuracy: 0.8966\n",
      "Epoch 13/30\n",
      "345/345 [==============================] - 1s 2ms/step - loss: 0.2836 - accuracy: 0.9130 - val_loss: 0.2608 - val_accuracy: 0.9138\n",
      "Epoch 14/30\n",
      "345/345 [==============================] - 1s 2ms/step - loss: 0.2441 - accuracy: 0.9159 - val_loss: 0.2689 - val_accuracy: 0.9052\n",
      "Epoch 15/30\n",
      "345/345 [==============================] - 1s 2ms/step - loss: 0.2504 - accuracy: 0.9275 - val_loss: 0.3020 - val_accuracy: 0.8879\n",
      "Epoch 16/30\n",
      "345/345 [==============================] - 1s 2ms/step - loss: 0.2635 - accuracy: 0.9101 - val_loss: 0.2658 - val_accuracy: 0.9052\n",
      "Epoch 17/30\n",
      "345/345 [==============================] - 1s 2ms/step - loss: 0.2358 - accuracy: 0.9304 - val_loss: 0.2560 - val_accuracy: 0.9138\n",
      "Epoch 18/30\n",
      "345/345 [==============================] - 1s 2ms/step - loss: 0.2344 - accuracy: 0.9159 - val_loss: 0.2383 - val_accuracy: 0.9138\n",
      "Epoch 19/30\n",
      "345/345 [==============================] - 1s 2ms/step - loss: 0.1753 - accuracy: 0.9478 - val_loss: 0.2478 - val_accuracy: 0.9052\n",
      "Epoch 20/30\n",
      "345/345 [==============================] - 1s 2ms/step - loss: 0.1936 - accuracy: 0.9275 - val_loss: 0.2555 - val_accuracy: 0.9052\n",
      "Epoch 21/30\n",
      "345/345 [==============================] - 1s 2ms/step - loss: 0.1753 - accuracy: 0.9420 - val_loss: 0.2725 - val_accuracy: 0.8879\n",
      "Epoch 22/30\n",
      "345/345 [==============================] - 1s 2ms/step - loss: 0.1713 - accuracy: 0.9536 - val_loss: 0.2291 - val_accuracy: 0.9052\n",
      "Epoch 23/30\n",
      "345/345 [==============================] - 1s 2ms/step - loss: 0.1568 - accuracy: 0.9449 - val_loss: 0.2246 - val_accuracy: 0.9138\n",
      "Epoch 24/30\n",
      "345/345 [==============================] - 1s 2ms/step - loss: 0.1654 - accuracy: 0.9478 - val_loss: 0.2709 - val_accuracy: 0.8879\n",
      "Epoch 25/30\n",
      "345/345 [==============================] - 1s 2ms/step - loss: 0.1731 - accuracy: 0.9420 - val_loss: 0.2113 - val_accuracy: 0.9138\n",
      "Epoch 26/30\n",
      "345/345 [==============================] - 1s 2ms/step - loss: 0.1438 - accuracy: 0.9565 - val_loss: 0.2429 - val_accuracy: 0.9224\n",
      "Epoch 27/30\n",
      "345/345 [==============================] - 1s 3ms/step - loss: 0.1395 - accuracy: 0.9623 - val_loss: 0.2498 - val_accuracy: 0.9224\n",
      "Epoch 28/30\n",
      "345/345 [==============================] - 1s 2ms/step - loss: 0.1123 - accuracy: 0.9710 - val_loss: 0.2416 - val_accuracy: 0.9052\n",
      "Epoch 29/30\n",
      "345/345 [==============================] - 1s 2ms/step - loss: 0.1291 - accuracy: 0.9507 - val_loss: 0.2188 - val_accuracy: 0.9138\n",
      "Epoch 30/30\n",
      "345/345 [==============================] - 1s 2ms/step - loss: 0.1217 - accuracy: 0.9623 - val_loss: 0.2184 - val_accuracy: 0.9224\n"
     ]
    },
    {
     "data": {
      "text/plain": [
       "<keras.callbacks.callbacks.History at 0x1d081c4d608>"
      ]
     },
     "execution_count": 110,
     "metadata": {},
     "output_type": "execute_result"
    }
   ],
   "source": [
    "\n",
    "model.fit(X_train, y_train, epochs=30, validation_data=(X_test, y_test))"
   ]
  },
  {
   "cell_type": "code",
   "execution_count": 111,
   "metadata": {},
   "outputs": [
    {
     "name": "stdout",
     "output_type": "stream",
     "text": [
      "Model evaluation accuracy:  92\n"
     ]
    }
   ],
   "source": [
    "scores = model.evaluate(X_test, y_test, verbose = 0)\n",
    "print(\"Model evaluation accuracy: \", round(scores[1]*100))\n"
   ]
  },
  {
   "cell_type": "code",
   "execution_count": 112,
   "metadata": {},
   "outputs": [],
   "source": [
    "def predict(path):\n",
    "    test_image = []\n",
    "\n",
    "    img = image.load_img(path, target_size=(28,28,3), grayscale=False)\n",
    "    img = image.img_to_array(img)\n",
    "    img = img/255\n",
    "    test_image.append(img)\n",
    "\n",
    "\n",
    "\n",
    "    test = np.array(test_image)\n",
    "    prediction = model.predict_classes(test)\n",
    "    return prediction"
   ]
  },
  {
   "cell_type": "code",
   "execution_count": null,
   "metadata": {},
   "outputs": [],
   "source": [
    "from tkinter import *\n",
    " \n",
    "from PIL import ImageTk, Image \n",
    "from tkinter import messagebox\n",
    "from tkinter import filedialog \n",
    "def open_img(): \n",
    " \n",
    "    x = openfilename() \n",
    "\n",
    "    img = Image.open(x) \n",
    "\n",
    "    img = img.resize((250, 250), Image.ANTIALIAS) \n",
    "\n",
    "\n",
    "    img = ImageTk.PhotoImage(img) \n",
    "\n",
    "\n",
    "    panel = Label(root, image = img) \n",
    "\n",
    "    panel.image = img \n",
    "    panel.grid(row = 2) \n",
    "    \n",
    "    label = predict(x)\n",
    "    if label == 0:\n",
    "        label = \"Extrasystole\"\n",
    "    elif label == 1:\n",
    "        label = \"Murmur\"\n",
    "    elif label == 2:\n",
    "        label = \"Normal\"\n",
    "    \n",
    "    \n",
    "    messagebox.showinfo('Prediction',label)\n",
    "        \n",
    "root = Tk() \n",
    "\n",
    "root.title(\"Image Loader\") \n",
    "\n",
    "root.geometry('550x500')\n",
    "\n",
    "root.resizable(width = True, height = True) \n",
    "\n",
    "\n",
    "btn = Button(root, text ='open image', command = open_img).grid( row = 1, columnspan = 4) \n",
    "\n",
    "root.mainloop() \n",
    "\n"
   ]
  },
  {
   "cell_type": "code",
   "execution_count": null,
   "metadata": {},
   "outputs": [],
   "source": []
  },
  {
   "cell_type": "code",
   "execution_count": null,
   "metadata": {},
   "outputs": [],
   "source": []
  },
  {
   "cell_type": "code",
   "execution_count": null,
   "metadata": {},
   "outputs": [],
   "source": []
  },
  {
   "cell_type": "code",
   "execution_count": null,
   "metadata": {},
   "outputs": [],
   "source": []
  }
 ],
 "metadata": {
  "kernelspec": {
   "display_name": "Python 3",
   "language": "python",
   "name": "python3"
  },
  "language_info": {
   "codemirror_mode": {
    "name": "ipython",
    "version": 3
   },
   "file_extension": ".py",
   "mimetype": "text/x-python",
   "name": "python",
   "nbconvert_exporter": "python",
   "pygments_lexer": "ipython3",
   "version": "3.7.7"
  }
 },
 "nbformat": 4,
 "nbformat_minor": 4
}
