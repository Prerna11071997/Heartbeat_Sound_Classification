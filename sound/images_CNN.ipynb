{
 "cells": [
  {
   "cell_type": "code",
   "execution_count": 24,
   "metadata": {},
   "outputs": [],
   "source": [
    "import tensorflow as tf\n",
    "import keras\n",
    "from keras.models import Sequential\n",
    "from keras.layers import Dense, Dropout, Flatten\n",
    "from keras.layers import Conv2D, MaxPooling2D, LSTM\n",
    "from keras.utils import to_categorical\n",
    "from keras.preprocessing import image\n",
    "import numpy as np\n",
    "import pandas as pd\n",
    "import matplotlib.pyplot as plt\n",
    "from keras.utils import to_categorical\n",
    "from tqdm import tqdm\n",
    "from sklearn.model_selection import train_test_split\n",
    "\n",
    "\n",
    "from sklearn.preprocessing import LabelEncoder\n",
    "from sklearn.preprocessing import OneHotEncoder\n",
    "# import PIL\n",
    "# from PIL import Image\n",
    "# from keras.preprocessing.image import img_to_array, load_img"
   ]
  },
  {
   "cell_type": "code",
   "execution_count": 25,
   "metadata": {},
   "outputs": [],
   "source": [
    "train = pd.read_csv('spec_df.csv')"
   ]
  },
  {
   "cell_type": "code",
   "execution_count": 26,
   "metadata": {},
   "outputs": [
    {
     "name": "stderr",
     "output_type": "stream",
     "text": [
      "100%|██████████| 461/461 [00:00<00:00, 613.83it/s]\n"
     ]
    }
   ],
   "source": [
    "train_image = []\n",
    "for i in tqdm(range(train.shape[0])):\n",
    "    img = image.load_img(train['iname'][i], target_size=(28,28,3), grayscale=False)\n",
    "    img = image.img_to_array(img)\n",
    "    img = img/255\n",
    "    train_image.append(img)\n",
    "X = np.array(train_image)\n",
    "\n"
   ]
  },
  {
   "cell_type": "code",
   "execution_count": 27,
   "metadata": {},
   "outputs": [
    {
     "name": "stdout",
     "output_type": "stream",
     "text": [
      "(28, 28, 3)\n"
     ]
    }
   ],
   "source": [
    "print(train_image[1].shape)\n",
    "le = LabelEncoder() \n",
    "  \n",
    "train['label'] = le.fit_transform(train['label']) \n",
    "\n",
    "y=train['label'].values\n",
    "y = to_categorical(y)\n"
   ]
  },
  {
   "cell_type": "markdown",
   "metadata": {},
   "source": [
    "look in the error..dtype is int but the stype of our label is str\n",
    "\n",
    "The following are totally acceptable in python:\n",
    "\n",
    "passing a string representation of an integer into int\n",
    "passing a string representation of a float into float\n",
    "passing a string representation of an integer into float\n",
    "passing a float into int\n",
    "passing an integer into float\n",
    "\n",
    "But you get a ValueError if you pass a string representation of a float into int, or a string representation of anything but an integer (including empty string). If you do want to pass a string representation of a float to an int, as @katyhuff points out above, you can convert to a float first, then to an integer:\n",
    "\n",
    "Link: https://stackoverflow.com/questions/1841565/valueerror-invalid-literal-for-int-with-base-10\n",
    "\n",
    "i think the reason the second one doesnt work is because the label is not representation of an integer or float\n",
    "\n",
    "u can use other way to categorise the data : try one hot encoding"
   ]
  },
  {
   "cell_type": "code",
   "execution_count": 70,
   "metadata": {},
   "outputs": [],
   "source": [
    "X_train, X_test, y_train, y_test = train_test_split(X, y, random_state=75, test_size=0.3, shuffle = True)"
   ]
  },
  {
   "cell_type": "code",
   "execution_count": 71,
   "metadata": {},
   "outputs": [],
   "source": [
    "model = Sequential()\n",
    "model.add(Conv2D(32, kernel_size=(3, 3),activation='relu',input_shape=(28,28,3)))\n",
    "model.add(Conv2D(64, (3, 3), activation='relu'))\n",
    "model.add(MaxPooling2D(pool_size=(2, 2)))\n",
    "model.add(Dropout(0.25))\n",
    "model.add(Flatten())\n",
    "model.add(Dense(128, activation='relu'))\n",
    "model.add(Dropout(0.5))\n",
    "model.add(Dense(3, activation='softmax'))"
   ]
  },
  {
   "cell_type": "code",
   "execution_count": 72,
   "metadata": {},
   "outputs": [],
   "source": [
    "model.compile(loss='categorical_crossentropy',optimizer='Adam',metrics=['accuracy'])"
   ]
  },
  {
   "cell_type": "code",
   "execution_count": 73,
   "metadata": {},
   "outputs": [
    {
     "name": "stdout",
     "output_type": "stream",
     "text": [
      "Train on 322 samples, validate on 139 samples\n",
      "Epoch 1/30\n",
      "322/322 [==============================] - 1s 2ms/step - loss: 0.9815 - accuracy: 0.6118 - val_loss: 0.7290 - val_accuracy: 0.7554\n",
      "Epoch 2/30\n",
      "322/322 [==============================] - 1s 2ms/step - loss: 0.8677 - accuracy: 0.6677 - val_loss: 0.7466 - val_accuracy: 0.7554\n",
      "Epoch 3/30\n",
      "322/322 [==============================] - 1s 2ms/step - loss: 0.8500 - accuracy: 0.6677 - val_loss: 0.7094 - val_accuracy: 0.7554\n",
      "Epoch 4/30\n",
      "322/322 [==============================] - 1s 2ms/step - loss: 0.8339 - accuracy: 0.6708 - val_loss: 0.6803 - val_accuracy: 0.7554\n",
      "Epoch 5/30\n",
      "322/322 [==============================] - 1s 2ms/step - loss: 0.7799 - accuracy: 0.6708 - val_loss: 0.6390 - val_accuracy: 0.7626\n",
      "Epoch 6/30\n",
      "322/322 [==============================] - 1s 2ms/step - loss: 0.6899 - accuracy: 0.7112 - val_loss: 0.5444 - val_accuracy: 0.7626\n",
      "Epoch 7/30\n",
      "322/322 [==============================] - 1s 2ms/step - loss: 0.6780 - accuracy: 0.7081 - val_loss: 0.5102 - val_accuracy: 0.7626\n",
      "Epoch 8/30\n",
      "322/322 [==============================] - 1s 2ms/step - loss: 0.6343 - accuracy: 0.7081 - val_loss: 0.5517 - val_accuracy: 0.7986\n",
      "Epoch 9/30\n",
      "322/322 [==============================] - 1s 2ms/step - loss: 0.5541 - accuracy: 0.7516 - val_loss: 0.4480 - val_accuracy: 0.8273\n",
      "Epoch 10/30\n",
      "322/322 [==============================] - 1s 2ms/step - loss: 0.4636 - accuracy: 0.7981 - val_loss: 0.4491 - val_accuracy: 0.8417\n",
      "Epoch 11/30\n",
      "322/322 [==============================] - 1s 2ms/step - loss: 0.4484 - accuracy: 0.8137 - val_loss: 0.3419 - val_accuracy: 0.8561\n",
      "Epoch 12/30\n",
      "322/322 [==============================] - 1s 2ms/step - loss: 0.3968 - accuracy: 0.8292 - val_loss: 0.3159 - val_accuracy: 0.8849\n",
      "Epoch 13/30\n",
      "322/322 [==============================] - 1s 2ms/step - loss: 0.3483 - accuracy: 0.8571 - val_loss: 0.3349 - val_accuracy: 0.8777\n",
      "Epoch 14/30\n",
      "322/322 [==============================] - 1s 2ms/step - loss: 0.3317 - accuracy: 0.8882 - val_loss: 0.3204 - val_accuracy: 0.8777\n",
      "Epoch 15/30\n",
      "322/322 [==============================] - 1s 2ms/step - loss: 0.2798 - accuracy: 0.8789 - val_loss: 0.2546 - val_accuracy: 0.9209\n",
      "Epoch 16/30\n",
      "322/322 [==============================] - 1s 2ms/step - loss: 0.2747 - accuracy: 0.8975 - val_loss: 0.3080 - val_accuracy: 0.8921\n",
      "Epoch 17/30\n",
      "322/322 [==============================] - 1s 2ms/step - loss: 0.2967 - accuracy: 0.9037 - val_loss: 0.2517 - val_accuracy: 0.9137\n",
      "Epoch 18/30\n",
      "322/322 [==============================] - 1s 2ms/step - loss: 0.2313 - accuracy: 0.9286 - val_loss: 0.2171 - val_accuracy: 0.9209\n",
      "Epoch 19/30\n",
      "322/322 [==============================] - 1s 2ms/step - loss: 0.2257 - accuracy: 0.9286 - val_loss: 0.2053 - val_accuracy: 0.9281\n",
      "Epoch 20/30\n",
      "322/322 [==============================] - 1s 2ms/step - loss: 0.2358 - accuracy: 0.9193 - val_loss: 0.2177 - val_accuracy: 0.9065\n",
      "Epoch 21/30\n",
      "322/322 [==============================] - 1s 2ms/step - loss: 0.1887 - accuracy: 0.9317 - val_loss: 0.1998 - val_accuracy: 0.9281\n",
      "Epoch 22/30\n",
      "322/322 [==============================] - 1s 3ms/step - loss: 0.1974 - accuracy: 0.9379 - val_loss: 0.2013 - val_accuracy: 0.9281\n",
      "Epoch 23/30\n",
      "322/322 [==============================] - 1s 2ms/step - loss: 0.1895 - accuracy: 0.9410 - val_loss: 0.2068 - val_accuracy: 0.9209\n",
      "Epoch 24/30\n",
      "322/322 [==============================] - 1s 2ms/step - loss: 0.1720 - accuracy: 0.9441 - val_loss: 0.2005 - val_accuracy: 0.9209\n",
      "Epoch 25/30\n",
      "322/322 [==============================] - 1s 2ms/step - loss: 0.2033 - accuracy: 0.9193 - val_loss: 0.2057 - val_accuracy: 0.9281\n",
      "Epoch 26/30\n",
      "322/322 [==============================] - 1s 2ms/step - loss: 0.1779 - accuracy: 0.9379 - val_loss: 0.1964 - val_accuracy: 0.9137\n",
      "Epoch 27/30\n",
      "322/322 [==============================] - 1s 2ms/step - loss: 0.1528 - accuracy: 0.9472 - val_loss: 0.2647 - val_accuracy: 0.8777\n",
      "Epoch 28/30\n",
      "322/322 [==============================] - 1s 2ms/step - loss: 0.2462 - accuracy: 0.9099 - val_loss: 0.2384 - val_accuracy: 0.9281\n",
      "Epoch 29/30\n",
      "322/322 [==============================] - 1s 2ms/step - loss: 0.1878 - accuracy: 0.9317 - val_loss: 0.2062 - val_accuracy: 0.9281\n",
      "Epoch 30/30\n",
      "322/322 [==============================] - 1s 2ms/step - loss: 0.1727 - accuracy: 0.9379 - val_loss: 0.1910 - val_accuracy: 0.9209\n"
     ]
    },
    {
     "data": {
      "text/plain": [
       "<keras.callbacks.callbacks.History at 0x1da96487e08>"
      ]
     },
     "execution_count": 73,
     "metadata": {},
     "output_type": "execute_result"
    }
   ],
   "source": [
    "\n",
    "model.fit(X_train, y_train, epochs=30, validation_data=(X_test, y_test))"
   ]
  },
  {
   "cell_type": "code",
   "execution_count": 65,
   "metadata": {},
   "outputs": [
    {
     "name": "stdout",
     "output_type": "stream",
     "text": [
      "Model evaluation accuracy:  92\n"
     ]
    }
   ],
   "source": [
    "scores = model.evaluate(X_test, y_test, verbose = 0)\n",
    "print(\"Model evaluation accuracy: \", round(scores[1]*100))\n"
   ]
  },
  {
   "cell_type": "code",
   "execution_count": null,
   "metadata": {},
   "outputs": [],
   "source": []
  },
  {
   "cell_type": "code",
   "execution_count": null,
   "metadata": {},
   "outputs": [],
   "source": []
  },
  {
   "cell_type": "code",
   "execution_count": null,
   "metadata": {},
   "outputs": [],
   "source": []
  }
 ],
 "metadata": {
  "kernelspec": {
   "display_name": "Python 3",
   "language": "python",
   "name": "python3"
  },
  "language_info": {
   "codemirror_mode": {
    "name": "ipython",
    "version": 3
   },
   "file_extension": ".py",
   "mimetype": "text/x-python",
   "name": "python",
   "nbconvert_exporter": "python",
   "pygments_lexer": "ipython3",
   "version": "3.7.7"
  }
 },
 "nbformat": 4,
 "nbformat_minor": 4
}
