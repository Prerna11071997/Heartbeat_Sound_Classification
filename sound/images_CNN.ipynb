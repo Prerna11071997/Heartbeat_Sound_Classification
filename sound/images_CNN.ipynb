{
 "cells": [
  {
   "cell_type": "code",
   "execution_count": 30,
   "metadata": {},
   "outputs": [],
   "source": [
    "import tensorflow as tf\n",
    "import keras\n",
    "from keras.models import Sequential\n",
    "from keras.layers import Dense, Dropout, Flatten\n",
    "from keras.layers import Conv2D, MaxPooling2D, LSTM\n",
    "from keras.utils import to_categorical\n",
    "from keras.preprocessing import image\n",
    "import numpy as np\n",
    "import pandas as pd\n",
    "import matplotlib.pyplot as plt\n",
    "from keras.utils import to_categorical\n",
    "from tqdm import tqdm\n",
    "from sklearn.model_selection import train_test_split\n",
    "\n",
    "\n",
    "from sklearn.preprocessing import LabelEncoder\n",
    "from sklearn.preprocessing import OneHotEncoder\n",
    "# import PIL\n",
    "# from PIL import Image\n",
    "# from keras.preprocessing.image import img_to_array, load_img"
   ]
  },
  {
   "cell_type": "code",
   "execution_count": 31,
   "metadata": {},
   "outputs": [],
   "source": [
    "train = pd.read_csv('images_df.csv')"
   ]
  },
  {
   "cell_type": "code",
   "execution_count": 32,
   "metadata": {},
   "outputs": [
    {
     "name": "stderr",
     "output_type": "stream",
     "text": [
      "100%|██████████| 461/461 [00:01<00:00, 363.75it/s]\n"
     ]
    }
   ],
   "source": [
    "train_image = []\n",
    "for i in tqdm(range(train.shape[0])):\n",
    "    img = image.load_img(train['iname'][i], target_size=(28,28,3), grayscale=False)\n",
    "    img = image.img_to_array(img)\n",
    "    img = img/255\n",
    "    train_image.append(img)\n",
    "X = np.array(train_image)"
   ]
  },
  {
   "cell_type": "code",
   "execution_count": 33,
   "metadata": {},
   "outputs": [],
   "source": [
    "le = LabelEncoder() \n",
    "  \n",
    "train['label'] = le.fit_transform(train['label']) \n",
    "\n",
    "y=train['label'].values\n",
    "y = to_categorical(y)\n"
   ]
  },
  {
   "cell_type": "markdown",
   "metadata": {},
   "source": [
    "look in the error..dtype is int but the stype of our label is str\n",
    "\n",
    "The following are totally acceptable in python:\n",
    "\n",
    "passing a string representation of an integer into int\n",
    "passing a string representation of a float into float\n",
    "passing a string representation of an integer into float\n",
    "passing a float into int\n",
    "passing an integer into float\n",
    "\n",
    "But you get a ValueError if you pass a string representation of a float into int, or a string representation of anything but an integer (including empty string). If you do want to pass a string representation of a float to an int, as @katyhuff points out above, you can convert to a float first, then to an integer:\n",
    "\n",
    "Link: https://stackoverflow.com/questions/1841565/valueerror-invalid-literal-for-int-with-base-10\n",
    "\n",
    "i think the reason the second one doesnt work is because the label is not representation of an integer or float\n",
    "\n",
    "u can use other way to categorise the data : try one hot encoding"
   ]
  },
  {
   "cell_type": "code",
   "execution_count": 34,
   "metadata": {},
   "outputs": [],
   "source": [
    "X_train, X_test, y_train, y_test = train_test_split(X, y, random_state=42, test_size=0.2, shuffle = True)"
   ]
  },
  {
   "cell_type": "code",
   "execution_count": 38,
   "metadata": {},
   "outputs": [
    {
     "ename": "TypeError",
     "evalue": "__init__() missing 1 required positional argument: 'units'",
     "output_type": "error",
     "traceback": [
      "\u001b[1;31m---------------------------------------------------------------------------\u001b[0m",
      "\u001b[1;31mTypeError\u001b[0m                                 Traceback (most recent call last)",
      "\u001b[1;32m<ipython-input-38-51273237b8de>\u001b[0m in \u001b[0;36m<module>\u001b[1;34m\u001b[0m\n\u001b[0;32m      2\u001b[0m \u001b[0mmodel\u001b[0m\u001b[1;33m.\u001b[0m\u001b[0madd\u001b[0m\u001b[1;33m(\u001b[0m\u001b[0mConv2D\u001b[0m\u001b[1;33m(\u001b[0m\u001b[1;36m32\u001b[0m\u001b[1;33m,\u001b[0m \u001b[0mkernel_size\u001b[0m\u001b[1;33m=\u001b[0m\u001b[1;33m(\u001b[0m\u001b[1;36m3\u001b[0m\u001b[1;33m,\u001b[0m \u001b[1;36m3\u001b[0m\u001b[1;33m)\u001b[0m\u001b[1;33m,\u001b[0m\u001b[0mactivation\u001b[0m\u001b[1;33m=\u001b[0m\u001b[1;34m'relu'\u001b[0m\u001b[1;33m,\u001b[0m\u001b[0minput_shape\u001b[0m\u001b[1;33m=\u001b[0m\u001b[1;33m(\u001b[0m\u001b[1;36m28\u001b[0m\u001b[1;33m,\u001b[0m\u001b[1;36m28\u001b[0m\u001b[1;33m,\u001b[0m\u001b[1;36m3\u001b[0m\u001b[1;33m)\u001b[0m\u001b[1;33m)\u001b[0m\u001b[1;33m)\u001b[0m\u001b[1;33m\u001b[0m\u001b[1;33m\u001b[0m\u001b[0m\n\u001b[0;32m      3\u001b[0m \u001b[0mmodel\u001b[0m\u001b[1;33m.\u001b[0m\u001b[0madd\u001b[0m\u001b[1;33m(\u001b[0m\u001b[0mConv2D\u001b[0m\u001b[1;33m(\u001b[0m\u001b[1;36m64\u001b[0m\u001b[1;33m,\u001b[0m \u001b[1;33m(\u001b[0m\u001b[1;36m3\u001b[0m\u001b[1;33m,\u001b[0m \u001b[1;36m3\u001b[0m\u001b[1;33m)\u001b[0m\u001b[1;33m,\u001b[0m \u001b[0mactivation\u001b[0m\u001b[1;33m=\u001b[0m\u001b[1;34m'relu'\u001b[0m\u001b[1;33m)\u001b[0m\u001b[1;33m)\u001b[0m\u001b[1;33m\u001b[0m\u001b[1;33m\u001b[0m\u001b[0m\n\u001b[1;32m----> 4\u001b[1;33m \u001b[0mmodel\u001b[0m\u001b[1;33m.\u001b[0m\u001b[0madd\u001b[0m\u001b[1;33m(\u001b[0m\u001b[0mLSTM\u001b[0m\u001b[1;33m(\u001b[0m\u001b[0minput_shape\u001b[0m\u001b[1;33m=\u001b[0m\u001b[1;33m(\u001b[0m\u001b[1;36m28\u001b[0m\u001b[1;33m,\u001b[0m \u001b[1;36m28\u001b[0m\u001b[1;33m,\u001b[0m \u001b[1;36m3\u001b[0m\u001b[1;33m)\u001b[0m\u001b[1;33m,\u001b[0m\u001b[0mreturn_sequences\u001b[0m\u001b[1;33m=\u001b[0m\u001b[1;32mTrue\u001b[0m\u001b[1;33m,\u001b[0m \u001b[0mdropout\u001b[0m\u001b[1;33m=\u001b[0m\u001b[1;36m0.1\u001b[0m\u001b[1;33m,\u001b[0m \u001b[0mrecurrent_dropout\u001b[0m\u001b[1;33m=\u001b[0m\u001b[1;36m0.1\u001b[0m\u001b[1;33m)\u001b[0m\u001b[1;33m)\u001b[0m\u001b[1;33m\u001b[0m\u001b[1;33m\u001b[0m\u001b[0m\n\u001b[0m\u001b[0;32m      5\u001b[0m \u001b[0mmodel\u001b[0m\u001b[1;33m.\u001b[0m\u001b[0madd\u001b[0m\u001b[1;33m(\u001b[0m\u001b[0mMaxPooling2D\u001b[0m\u001b[1;33m(\u001b[0m\u001b[0mpool_size\u001b[0m\u001b[1;33m=\u001b[0m\u001b[1;33m(\u001b[0m\u001b[1;36m2\u001b[0m\u001b[1;33m,\u001b[0m \u001b[1;36m2\u001b[0m\u001b[1;33m)\u001b[0m\u001b[1;33m)\u001b[0m\u001b[1;33m)\u001b[0m\u001b[1;33m\u001b[0m\u001b[1;33m\u001b[0m\u001b[0m\n\u001b[0;32m      6\u001b[0m \u001b[0mmodel\u001b[0m\u001b[1;33m.\u001b[0m\u001b[0madd\u001b[0m\u001b[1;33m(\u001b[0m\u001b[0mDropout\u001b[0m\u001b[1;33m(\u001b[0m\u001b[1;36m0.25\u001b[0m\u001b[1;33m)\u001b[0m\u001b[1;33m)\u001b[0m\u001b[1;33m\u001b[0m\u001b[1;33m\u001b[0m\u001b[0m\n",
      "\u001b[1;32m~\\anaconda3\\envs\\tf\\lib\\site-packages\\keras\\legacy\\interfaces.py\u001b[0m in \u001b[0;36mwrapper\u001b[1;34m(*args, **kwargs)\u001b[0m\n\u001b[0;32m     89\u001b[0m                 warnings.warn('Update your `' + object_name + '` call to the ' +\n\u001b[0;32m     90\u001b[0m                               'Keras 2 API: ' + signature, stacklevel=2)\n\u001b[1;32m---> 91\u001b[1;33m             \u001b[1;32mreturn\u001b[0m \u001b[0mfunc\u001b[0m\u001b[1;33m(\u001b[0m\u001b[1;33m*\u001b[0m\u001b[0margs\u001b[0m\u001b[1;33m,\u001b[0m \u001b[1;33m**\u001b[0m\u001b[0mkwargs\u001b[0m\u001b[1;33m)\u001b[0m\u001b[1;33m\u001b[0m\u001b[1;33m\u001b[0m\u001b[0m\n\u001b[0m\u001b[0;32m     92\u001b[0m         \u001b[0mwrapper\u001b[0m\u001b[1;33m.\u001b[0m\u001b[0m_original_function\u001b[0m \u001b[1;33m=\u001b[0m \u001b[0mfunc\u001b[0m\u001b[1;33m\u001b[0m\u001b[1;33m\u001b[0m\u001b[0m\n\u001b[0;32m     93\u001b[0m         \u001b[1;32mreturn\u001b[0m \u001b[0mwrapper\u001b[0m\u001b[1;33m\u001b[0m\u001b[1;33m\u001b[0m\u001b[0m\n",
      "\u001b[1;31mTypeError\u001b[0m: __init__() missing 1 required positional argument: 'units'"
     ]
    }
   ],
   "source": [
    "model = Sequential()\n",
    "model.add(Conv2D(32, kernel_size=(3, 3),activation='relu',input_shape=(28,28,3)))\n",
    "model.add(Conv2D(64, (3, 3), activation='relu'))\n",
    "model.add(LSTM(64,input_shape=(28, 28, 3),return_sequences=True, dropout=0.1, recurrent_dropout=0.1))\n",
    "model.add(MaxPooling2D(pool_size=(2, 2)))\n",
    "model.add(Dropout(0.25))\n",
    "model.add(Flatten())\n",
    "model.add(Dense(128, activation='relu'))\n",
    "model.add(Dropout(0.5))\n",
    "model.add(Dense(3, activation='softmax'))"
   ]
  },
  {
   "cell_type": "code",
   "execution_count": 21,
   "metadata": {},
   "outputs": [],
   "source": [
    "model.compile(loss='categorical_crossentropy',optimizer='Adam',metrics=['accuracy'])"
   ]
  },
  {
   "cell_type": "code",
   "execution_count": 22,
   "metadata": {},
   "outputs": [
    {
     "name": "stdout",
     "output_type": "stream",
     "text": [
      "Train on 368 samples, validate on 93 samples\n",
      "Epoch 1/30\n",
      "368/368 [==============================] - 1s 2ms/step - loss: 0.9003 - accuracy: 0.6440 - val_loss: 0.8427 - val_accuracy: 0.6882\n",
      "Epoch 2/30\n",
      "368/368 [==============================] - 1s 2ms/step - loss: 0.7989 - accuracy: 0.6957 - val_loss: 0.8480 - val_accuracy: 0.6882\n",
      "Epoch 3/30\n",
      "368/368 [==============================] - 1s 2ms/step - loss: 0.8137 - accuracy: 0.6957 - val_loss: 0.8394 - val_accuracy: 0.6882\n",
      "Epoch 4/30\n",
      "368/368 [==============================] - 1s 2ms/step - loss: 0.8073 - accuracy: 0.6957 - val_loss: 0.8383 - val_accuracy: 0.6882\n",
      "Epoch 5/30\n",
      "368/368 [==============================] - 1s 2ms/step - loss: 0.7852 - accuracy: 0.6957 - val_loss: 0.8245 - val_accuracy: 0.6882\n",
      "Epoch 6/30\n",
      "368/368 [==============================] - 1s 2ms/step - loss: 0.7696 - accuracy: 0.6957 - val_loss: 0.8371 - val_accuracy: 0.6882\n",
      "Epoch 7/30\n",
      "368/368 [==============================] - 1s 2ms/step - loss: 0.7468 - accuracy: 0.6957 - val_loss: 0.8117 - val_accuracy: 0.6882\n",
      "Epoch 8/30\n",
      "368/368 [==============================] - 1s 2ms/step - loss: 0.7093 - accuracy: 0.6984 - val_loss: 0.7899 - val_accuracy: 0.6774\n",
      "Epoch 9/30\n",
      "368/368 [==============================] - 1s 2ms/step - loss: 0.6564 - accuracy: 0.7092 - val_loss: 0.8686 - val_accuracy: 0.6774\n",
      "Epoch 10/30\n",
      "368/368 [==============================] - 1s 2ms/step - loss: 0.6763 - accuracy: 0.7092 - val_loss: 0.8004 - val_accuracy: 0.6882\n",
      "Epoch 11/30\n",
      "368/368 [==============================] - 1s 2ms/step - loss: 0.6454 - accuracy: 0.7310 - val_loss: 0.7946 - val_accuracy: 0.6667\n",
      "Epoch 12/30\n",
      "368/368 [==============================] - 1s 2ms/step - loss: 0.5628 - accuracy: 0.7663 - val_loss: 0.7855 - val_accuracy: 0.6559\n",
      "Epoch 13/30\n",
      "368/368 [==============================] - 1s 2ms/step - loss: 0.5398 - accuracy: 0.7826 - val_loss: 0.7925 - val_accuracy: 0.6452\n",
      "Epoch 14/30\n",
      "368/368 [==============================] - 1s 2ms/step - loss: 0.4742 - accuracy: 0.7826 - val_loss: 0.8227 - val_accuracy: 0.6774\n",
      "Epoch 15/30\n",
      "368/368 [==============================] - 1s 2ms/step - loss: 0.4400 - accuracy: 0.8098 - val_loss: 0.9410 - val_accuracy: 0.6882\n",
      "Epoch 16/30\n",
      "368/368 [==============================] - 1s 2ms/step - loss: 0.4391 - accuracy: 0.8261 - val_loss: 0.8946 - val_accuracy: 0.6774\n",
      "Epoch 17/30\n",
      "368/368 [==============================] - 1s 2ms/step - loss: 0.3838 - accuracy: 0.8505 - val_loss: 0.9461 - val_accuracy: 0.6774\n",
      "Epoch 18/30\n",
      "368/368 [==============================] - 1s 2ms/step - loss: 0.3227 - accuracy: 0.8668 - val_loss: 0.9387 - val_accuracy: 0.6559\n",
      "Epoch 19/30\n",
      "368/368 [==============================] - 1s 2ms/step - loss: 0.2973 - accuracy: 0.8832 - val_loss: 0.9300 - val_accuracy: 0.6559\n",
      "Epoch 20/30\n",
      "368/368 [==============================] - 1s 2ms/step - loss: 0.2460 - accuracy: 0.9185 - val_loss: 0.9487 - val_accuracy: 0.6774\n",
      "Epoch 21/30\n",
      "368/368 [==============================] - 1s 2ms/step - loss: 0.2254 - accuracy: 0.9239 - val_loss: 0.9163 - val_accuracy: 0.6559\n",
      "Epoch 22/30\n",
      "368/368 [==============================] - 1s 2ms/step - loss: 0.2020 - accuracy: 0.9375 - val_loss: 1.1259 - val_accuracy: 0.6667\n",
      "Epoch 23/30\n",
      "368/368 [==============================] - 1s 2ms/step - loss: 0.1853 - accuracy: 0.9429 - val_loss: 1.1632 - val_accuracy: 0.6559\n",
      "Epoch 24/30\n",
      "368/368 [==============================] - 1s 2ms/step - loss: 0.1672 - accuracy: 0.9620 - val_loss: 1.0966 - val_accuracy: 0.6559\n",
      "Epoch 25/30\n",
      "368/368 [==============================] - 1s 2ms/step - loss: 0.1501 - accuracy: 0.9538 - val_loss: 1.0916 - val_accuracy: 0.6344\n",
      "Epoch 26/30\n",
      "368/368 [==============================] - 1s 2ms/step - loss: 0.1261 - accuracy: 0.9647 - val_loss: 1.0521 - val_accuracy: 0.6452\n",
      "Epoch 27/30\n",
      "368/368 [==============================] - 1s 2ms/step - loss: 0.1222 - accuracy: 0.9810 - val_loss: 1.3120 - val_accuracy: 0.6559\n",
      "Epoch 28/30\n",
      "368/368 [==============================] - 1s 2ms/step - loss: 0.0980 - accuracy: 0.9783 - val_loss: 1.2945 - val_accuracy: 0.6452\n",
      "Epoch 29/30\n",
      "368/368 [==============================] - 1s 2ms/step - loss: 0.1018 - accuracy: 0.9674 - val_loss: 1.4274 - val_accuracy: 0.6559\n",
      "Epoch 30/30\n",
      "368/368 [==============================] - 1s 2ms/step - loss: 0.0800 - accuracy: 0.9783 - val_loss: 1.3259 - val_accuracy: 0.6129\n"
     ]
    },
    {
     "data": {
      "text/plain": [
       "<keras.callbacks.callbacks.History at 0x19df7555948>"
      ]
     },
     "execution_count": 22,
     "metadata": {},
     "output_type": "execute_result"
    }
   ],
   "source": [
    "\n",
    "model.fit(X_train, y_train, epochs=30, validation_data=(X_test, y_test))"
   ]
  },
  {
   "cell_type": "code",
   "execution_count": null,
   "metadata": {},
   "outputs": [],
   "source": []
  },
  {
   "cell_type": "code",
   "execution_count": null,
   "metadata": {},
   "outputs": [],
   "source": []
  },
  {
   "cell_type": "code",
   "execution_count": null,
   "metadata": {},
   "outputs": [],
   "source": []
  },
  {
   "cell_type": "code",
   "execution_count": null,
   "metadata": {},
   "outputs": [],
   "source": []
  }
 ],
 "metadata": {
  "kernelspec": {
   "display_name": "Python 3",
   "language": "python",
   "name": "python3"
  },
  "language_info": {
   "codemirror_mode": {
    "name": "ipython",
    "version": 3
   },
   "file_extension": ".py",
   "mimetype": "text/x-python",
   "name": "python",
   "nbconvert_exporter": "python",
   "pygments_lexer": "ipython3",
   "version": "3.7.7"
  }
 },
 "nbformat": 4,
 "nbformat_minor": 4
}
