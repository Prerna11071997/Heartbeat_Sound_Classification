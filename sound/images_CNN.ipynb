{
 "cells": [
  {
   "cell_type": "code",
   "execution_count": 82,
   "metadata": {},
   "outputs": [],
   "source": [
    "import tensorflow as tf\n",
    "import keras\n",
    "from keras.models import Sequential\n",
    "from keras.layers import Dense, Dropout, Flatten\n",
    "from keras.layers import Conv2D, MaxPooling2D, LSTM\n",
    "from keras.utils import to_categorical\n",
    "from keras.preprocessing import image\n",
    "import numpy as np\n",
    "import pandas as pd\n",
    "import matplotlib.pyplot as plt\n",
    "from keras.utils import to_categorical\n",
    "from tqdm import tqdm\n",
    "from sklearn.model_selection import train_test_split\n",
    "\n",
    "\n",
    "from sklearn.preprocessing import LabelEncoder\n",
    "from sklearn.preprocessing import OneHotEncoder\n",
    "# import PIL\n",
    "# from PIL import Image\n",
    "# from keras.preprocessing.image import img_to_array, load_img"
   ]
  },
  {
   "cell_type": "code",
   "execution_count": 83,
   "metadata": {},
   "outputs": [],
   "source": [
    "train = pd.read_csv('spec_df.csv')"
   ]
  },
  {
   "cell_type": "code",
   "execution_count": 84,
   "metadata": {},
   "outputs": [
    {
     "name": "stderr",
     "output_type": "stream",
     "text": [
      "100%|██████████| 461/461 [00:11<00:00, 41.13it/s]\n"
     ]
    }
   ],
   "source": [
    "train_image = []\n",
    "for i in tqdm(range(train.shape[0])):\n",
    "    img = image.load_img(train['iname'][i], target_size=(28,28,3), grayscale=False)\n",
    "    img = image.img_to_array(img)\n",
    "    img = img/255\n",
    "    train_image.append(img)\n",
    "X = np.array(train_image)\n",
    "\n"
   ]
  },
  {
   "cell_type": "code",
   "execution_count": 85,
   "metadata": {},
   "outputs": [],
   "source": [
    "le = LabelEncoder() \n",
    "\n",
    "train['label'] = le.fit_transform(train['label']) \n",
    "\n",
    "y=train['label'].values\n",
    "\n",
    "y = to_categorical(y)\n"
   ]
  },
  {
   "cell_type": "markdown",
   "metadata": {},
   "source": [
    "look in the error..dtype is int but the stype of our label is str\n",
    "\n",
    "The following are totally acceptable in python:\n",
    "\n",
    "passing a string representation of an integer into int\n",
    "passing a string representation of a float into float\n",
    "passing a string representation of an integer into float\n",
    "passing a float into int\n",
    "passing an integer into float\n",
    "\n",
    "But you get a ValueError if you pass a string representation of a float into int, or a string representation of anything but an integer (including empty string). If you do want to pass a string representation of a float to an int, as @katyhuff points out above, you can convert to a float first, then to an integer:\n",
    "\n",
    "Link: https://stackoverflow.com/questions/1841565/valueerror-invalid-literal-for-int-with-base-10\n",
    "\n",
    "i think the reason the second one doesnt work is because the label is not representation of an integer or float\n",
    "\n",
    "u can use other way to categorise the data : try one hot encoding"
   ]
  },
  {
   "cell_type": "code",
   "execution_count": 86,
   "metadata": {},
   "outputs": [],
   "source": [
    "X_train, X_test, y_train, y_test = train_test_split(X, y, random_state=75, test_size=0.25, shuffle = True)"
   ]
  },
  {
   "cell_type": "code",
   "execution_count": 87,
   "metadata": {},
   "outputs": [],
   "source": [
    "model = Sequential()\n",
    "model.add(Conv2D(32, kernel_size=(3, 3),activation='relu',input_shape=(28,28,3)))\n",
    "model.add(Conv2D(64, (3, 3), activation='relu'))\n",
    "model.add(MaxPooling2D(pool_size=(2, 2)))\n",
    "model.add(Dropout(0.25))\n",
    "model.add(Flatten())\n",
    "model.add(Dense(128, activation='relu'))\n",
    "model.add(Dropout(0.5))\n",
    "model.add(Dense(3, activation='softmax'))"
   ]
  },
  {
   "cell_type": "code",
   "execution_count": 88,
   "metadata": {},
   "outputs": [],
   "source": [
    "model.compile(loss='categorical_crossentropy',optimizer='Adam',metrics=['accuracy'])"
   ]
  },
  {
   "cell_type": "code",
   "execution_count": 89,
   "metadata": {},
   "outputs": [
    {
     "name": "stdout",
     "output_type": "stream",
     "text": [
      "Train on 345 samples, validate on 116 samples\n",
      "Epoch 1/30\n",
      "345/345 [==============================] - 1s 4ms/step - loss: 0.9523 - accuracy: 0.6145 - val_loss: 0.6772 - val_accuracy: 0.7672\n",
      "Epoch 2/30\n",
      "345/345 [==============================] - 1s 2ms/step - loss: 0.8255 - accuracy: 0.6696 - val_loss: 0.6596 - val_accuracy: 0.7672\n",
      "Epoch 3/30\n",
      "345/345 [==============================] - 1s 2ms/step - loss: 0.7732 - accuracy: 0.6783 - val_loss: 0.5740 - val_accuracy: 0.7759\n",
      "Epoch 4/30\n",
      "345/345 [==============================] - 1s 2ms/step - loss: 0.6421 - accuracy: 0.7275 - val_loss: 0.4799 - val_accuracy: 0.7845\n",
      "Epoch 5/30\n",
      "345/345 [==============================] - 1s 2ms/step - loss: 0.6146 - accuracy: 0.7159 - val_loss: 0.4989 - val_accuracy: 0.7759\n",
      "Epoch 6/30\n",
      "345/345 [==============================] - 1s 2ms/step - loss: 0.5511 - accuracy: 0.7449 - val_loss: 0.3954 - val_accuracy: 0.7931\n",
      "Epoch 7/30\n",
      "345/345 [==============================] - 1s 2ms/step - loss: 0.4743 - accuracy: 0.7826 - val_loss: 0.4052 - val_accuracy: 0.8879\n",
      "Epoch 8/30\n",
      "345/345 [==============================] - 1s 2ms/step - loss: 0.4473 - accuracy: 0.8174 - val_loss: 0.4147 - val_accuracy: 0.8621\n",
      "Epoch 9/30\n",
      "345/345 [==============================] - 1s 2ms/step - loss: 0.3978 - accuracy: 0.8464 - val_loss: 0.3315 - val_accuracy: 0.8966\n",
      "Epoch 10/30\n",
      "345/345 [==============================] - 1s 2ms/step - loss: 0.3659 - accuracy: 0.8696 - val_loss: 0.2744 - val_accuracy: 0.9138\n",
      "Epoch 11/30\n",
      "345/345 [==============================] - 1s 2ms/step - loss: 0.2880 - accuracy: 0.9101 - val_loss: 0.2865 - val_accuracy: 0.9052\n",
      "Epoch 12/30\n",
      "345/345 [==============================] - 1s 2ms/step - loss: 0.2664 - accuracy: 0.9130 - val_loss: 0.2808 - val_accuracy: 0.9052\n",
      "Epoch 13/30\n",
      "345/345 [==============================] - 1s 2ms/step - loss: 0.2569 - accuracy: 0.9159 - val_loss: 0.2429 - val_accuracy: 0.9138\n",
      "Epoch 14/30\n",
      "345/345 [==============================] - 1s 2ms/step - loss: 0.2381 - accuracy: 0.9217 - val_loss: 0.2288 - val_accuracy: 0.9224\n",
      "Epoch 15/30\n",
      "345/345 [==============================] - 1s 2ms/step - loss: 0.2318 - accuracy: 0.9246 - val_loss: 0.2344 - val_accuracy: 0.9052\n",
      "Epoch 16/30\n",
      "345/345 [==============================] - 1s 2ms/step - loss: 0.2011 - accuracy: 0.9391 - val_loss: 0.2270 - val_accuracy: 0.9052\n",
      "Epoch 17/30\n",
      "345/345 [==============================] - 1s 2ms/step - loss: 0.2074 - accuracy: 0.9362 - val_loss: 0.2341 - val_accuracy: 0.9310\n",
      "Epoch 18/30\n",
      "345/345 [==============================] - 1s 2ms/step - loss: 0.2169 - accuracy: 0.9275 - val_loss: 0.2216 - val_accuracy: 0.9138\n",
      "Epoch 19/30\n",
      "345/345 [==============================] - 1s 2ms/step - loss: 0.1676 - accuracy: 0.9333 - val_loss: 0.2380 - val_accuracy: 0.8966\n",
      "Epoch 20/30\n",
      "345/345 [==============================] - 1s 2ms/step - loss: 0.1741 - accuracy: 0.9536 - val_loss: 0.2054 - val_accuracy: 0.9310\n",
      "Epoch 21/30\n",
      "345/345 [==============================] - 1s 2ms/step - loss: 0.1253 - accuracy: 0.9536 - val_loss: 0.2097 - val_accuracy: 0.9310\n",
      "Epoch 22/30\n",
      "345/345 [==============================] - 1s 2ms/step - loss: 0.1273 - accuracy: 0.9594 - val_loss: 0.2076 - val_accuracy: 0.9224\n",
      "Epoch 23/30\n",
      "345/345 [==============================] - 1s 2ms/step - loss: 0.1366 - accuracy: 0.9565 - val_loss: 0.2325 - val_accuracy: 0.9052\n",
      "Epoch 24/30\n",
      "345/345 [==============================] - 1s 2ms/step - loss: 0.1360 - accuracy: 0.9420 - val_loss: 0.2151 - val_accuracy: 0.9224\n",
      "Epoch 25/30\n",
      "345/345 [==============================] - 1s 2ms/step - loss: 0.1028 - accuracy: 0.9623 - val_loss: 0.2170 - val_accuracy: 0.9224\n",
      "Epoch 26/30\n",
      "345/345 [==============================] - 1s 2ms/step - loss: 0.0950 - accuracy: 0.9710 - val_loss: 0.2168 - val_accuracy: 0.9310\n",
      "Epoch 27/30\n",
      "345/345 [==============================] - 1s 2ms/step - loss: 0.0925 - accuracy: 0.9681 - val_loss: 0.2155 - val_accuracy: 0.9224\n",
      "Epoch 28/30\n",
      "345/345 [==============================] - 1s 2ms/step - loss: 0.0847 - accuracy: 0.9710 - val_loss: 0.2155 - val_accuracy: 0.9310\n",
      "Epoch 29/30\n",
      "345/345 [==============================] - 1s 2ms/step - loss: 0.0917 - accuracy: 0.9652 - val_loss: 0.2207 - val_accuracy: 0.9310\n",
      "Epoch 30/30\n",
      "345/345 [==============================] - 1s 3ms/step - loss: 0.0746 - accuracy: 0.9797 - val_loss: 0.2277 - val_accuracy: 0.9310\n"
     ]
    },
    {
     "data": {
      "text/plain": [
       "<keras.callbacks.callbacks.History at 0x1d0dd408bc8>"
      ]
     },
     "execution_count": 89,
     "metadata": {},
     "output_type": "execute_result"
    }
   ],
   "source": [
    "\n",
    "model.fit(X_train, y_train, epochs=30, validation_data=(X_test, y_test))"
   ]
  },
  {
   "cell_type": "code",
   "execution_count": 90,
   "metadata": {},
   "outputs": [
    {
     "name": "stdout",
     "output_type": "stream",
     "text": [
      "Model evaluation accuracy:  93\n"
     ]
    }
   ],
   "source": [
    "scores = model.evaluate(X_test, y_test, verbose = 0)\n",
    "print(\"Model evaluation accuracy: \", round(scores[1]*100))\n"
   ]
  },
  {
   "cell_type": "code",
   "execution_count": 95,
   "metadata": {},
   "outputs": [],
   "source": [
    "def predict(path):\n",
    "    test_image = []\n",
    "\n",
    "    img = image.load_img(path, target_size=(28,28,3), grayscale=False)\n",
    "    img = image.img_to_array(img)\n",
    "    img = img/255\n",
    "    test_image.append(img)\n",
    "\n",
    "\n",
    "\n",
    "    test = np.array(test_image)\n",
    "    prediction = model.predict_classes(test)\n",
    "    return prediction"
   ]
  },
  {
   "cell_type": "code",
   "execution_count": null,
   "metadata": {},
   "outputs": [],
   "source": [
    "from tkinter import *\n",
    " \n",
    "from PIL import ImageTk, Image \n",
    "from tkinter import messagebox\n",
    "from tkinter import filedialog \n",
    "def open_img(): \n",
    " \n",
    "    x = openfilename() \n",
    "\n",
    "    img = Image.open(x) \n",
    "\n",
    "    img = img.resize((250, 250), Image.ANTIALIAS) \n",
    "\n",
    "\n",
    "    img = ImageTk.PhotoImage(img) \n",
    "\n",
    "\n",
    "    panel = Label(root, image = img) \n",
    "\n",
    "    panel.image = img \n",
    "    panel.grid(row = 2) \n",
    "    \n",
    "    label = predict(x)\n",
    "    if label == 0:\n",
    "        label = \"extrasystole\"\n",
    "    elif label == 1:\n",
    "        label = \"murmur\"\n",
    "    elif label == 2:\n",
    "        label = \"normal\"\n",
    "    \n",
    "    \n",
    "    messagebox.showinfo('Prediction',label)\n",
    "        \n",
    "root = Tk() \n",
    "\n",
    "root.title(\"Image Loader\") \n",
    "\n",
    "root.geometry('550x500')\n",
    "\n",
    "root.resizable(width = True, height = True) \n",
    "\n",
    "\n",
    "btn = Button(root, text ='open image', command = open_img).grid( row = 1, columnspan = 4) \n",
    "\n",
    "root.mainloop() \n",
    "\n"
   ]
  },
  {
   "cell_type": "code",
   "execution_count": null,
   "metadata": {},
   "outputs": [],
   "source": []
  },
  {
   "cell_type": "code",
   "execution_count": null,
   "metadata": {},
   "outputs": [],
   "source": []
  },
  {
   "cell_type": "code",
   "execution_count": null,
   "metadata": {},
   "outputs": [],
   "source": []
  },
  {
   "cell_type": "code",
   "execution_count": null,
   "metadata": {},
   "outputs": [],
   "source": []
  }
 ],
 "metadata": {
  "kernelspec": {
   "display_name": "Python 3",
   "language": "python",
   "name": "python3"
  },
  "language_info": {
   "codemirror_mode": {
    "name": "ipython",
    "version": 3
   },
   "file_extension": ".py",
   "mimetype": "text/x-python",
   "name": "python",
   "nbconvert_exporter": "python",
   "pygments_lexer": "ipython3",
   "version": "3.7.7"
  }
 },
 "nbformat": 4,
 "nbformat_minor": 4
}
