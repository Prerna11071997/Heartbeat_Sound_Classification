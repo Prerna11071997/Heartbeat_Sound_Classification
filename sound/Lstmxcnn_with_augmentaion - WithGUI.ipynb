{
 "cells": [
  {
   "cell_type": "code",
   "execution_count": 40,
   "metadata": {},
   "outputs": [],
   "source": [
    "import tensorflow as tf\n",
    "import tensorflow.keras\n",
    "from tensorflow.keras.models import Sequential\n",
    "from tensorflow.keras.layers import Dense, Dropout, Flatten\n",
    "from tensorflow.keras.layers import Conv2D, MaxPooling2D, LSTM\n",
    "from tensorflow.keras.utils import to_categorical\n",
    "from tensorflow.keras.preprocessing import image\n",
    "import numpy as np\n",
    "import pandas as pd\n",
    "import matplotlib.pyplot as plt\n",
    "from tensorflow.keras.utils import to_categorical\n",
    "from tqdm import tqdm\n",
    "from sklearn.model_selection import train_test_split\n",
    "from tensorflow.keras.preprocessing.image import ImageDataGenerator, array_to_img, img_to_array, load_img\n",
    "\n",
    "from sklearn.preprocessing import LabelEncoder\n",
    "from sklearn.preprocessing import OneHotEncoder"
   ]
  },
  {
   "cell_type": "code",
   "execution_count": 41,
   "metadata": {},
   "outputs": [],
   "source": [
    "\n",
    "train = pd.read_csv('spec_df.csv')"
   ]
  },
  {
   "cell_type": "code",
   "execution_count": 42,
   "metadata": {},
   "outputs": [
    {
     "name": "stderr",
     "output_type": "stream",
     "text": [
      "100%|████████████████████████████████████████████████████████████████████████████████| 461/461 [00:09<00:00, 48.89it/s]\n"
     ]
    }
   ],
   "source": [
    "from tensorflow.keras.preprocessing.image import ImageDataGenerator, array_to_img, img_to_array, load_img\n",
    "\n",
    "\n",
    "datagen = ImageDataGenerator(\n",
    "        rotation_range=40,\n",
    "        width_shift_range=0.2,\n",
    "        height_shift_range=0.2,\n",
    "        shear_range=0.2,\n",
    "        zoom_range=0.2,\n",
    "        horizontal_flip=True,\n",
    "        fill_mode='nearest')\n",
    "                     \n",
    "\n",
    "train_image = []\n",
    "for i in tqdm(range(train.shape[0])):\n",
    "    img = image.load_img(train['iname'][i], target_size=(28,28,3), grayscale=False)\n",
    "    img = image.img_to_array(img)\n",
    "    img = img/255\n",
    "    train_image.append(img)\n",
    "X = np.array(train_image)"
   ]
  },
  {
   "cell_type": "code",
   "execution_count": 43,
   "metadata": {},
   "outputs": [],
   "source": [
    "le = LabelEncoder() \n",
    "  \n",
    "train['label'] = le.fit_transform(train['label']) \n",
    "\n",
    "y=train['label'].values\n",
    "y = to_categorical(y)"
   ]
  },
  {
   "cell_type": "code",
   "execution_count": 44,
   "metadata": {},
   "outputs": [],
   "source": [
    "X_train, X_test, y_train, y_test = train_test_split(X, y, random_state=75, test_size=0.25, shuffle = True)"
   ]
  },
  {
   "cell_type": "code",
   "execution_count": 45,
   "metadata": {},
   "outputs": [],
   "source": [
    "datagen.fit(X_train)"
   ]
  },
  {
   "cell_type": "code",
   "execution_count": 46,
   "metadata": {},
   "outputs": [
    {
     "name": "stdout",
     "output_type": "stream",
     "text": [
      "X_train shape: (345, 28, 28, 3)\n",
      "345 train samples\n",
      "116 test samples\n"
     ]
    }
   ],
   "source": [
    "print('X_train shape:', X_train.shape)\n",
    "print(X_train.shape[0], 'train samples')\n",
    "print(X_test.shape[0], 'test samples')"
   ]
  },
  {
   "cell_type": "code",
   "execution_count": 47,
   "metadata": {},
   "outputs": [],
   "source": [
    "x_train = np.array(X_train).reshape((345, 28, -1))\n",
    "x_test = np.array(X_test).reshape((116, 28, -1))"
   ]
  },
  {
   "cell_type": "code",
   "execution_count": 48,
   "metadata": {},
   "outputs": [
    {
     "name": "stdout",
     "output_type": "stream",
     "text": [
      "X_train shape: (345, 28, 84)\n",
      "345 train samples\n",
      "116 test samples\n"
     ]
    }
   ],
   "source": [
    "print('X_train shape:', x_train.shape)\n",
    "print(x_train.shape[0], 'train samples')\n",
    "print(x_test.shape[0], 'test samples')"
   ]
  },
  {
   "cell_type": "code",
   "execution_count": 49,
   "metadata": {},
   "outputs": [],
   "source": [
    "from tensorflow.keras.layers import TimeDistributed\n",
    "from tensorflow.keras.layers import AveragePooling1D\n",
    "from tensorflow.keras.losses import categorical_crossentropy\n",
    "from tensorflow.keras.optimizers import RMSprop"
   ]
  },
  {
   "cell_type": "code",
   "execution_count": 50,
   "metadata": {},
   "outputs": [],
   "source": [
    "batch_size = 128\n",
    "nb_epoch = 100\n",
    "\n",
    "# Parameters for MNIST dataset\n",
    "img_rows, img_cols = 28, 28\n",
    "nb_classes = 3\n",
    "\n",
    "# Parameters for LSTM network\n",
    "nb_lstm_outputs = 30\n",
    "nb_time_steps = img_rows\n",
    "dim_input_vector = img_cols\n"
   ]
  },
  {
   "cell_type": "code",
   "execution_count": 51,
   "metadata": {},
   "outputs": [],
   "source": [
    "model = Sequential()\n",
    "model.add(LSTM(64, input_shape=(28, 84), return_sequences=True, implementation=2))\n",
    "model.add(TimeDistributed(Dense(1)))\n",
    "model.add(AveragePooling1D())\n",
    "\n",
    "model.add(Flatten())\n",
    "\n",
    "model.add(Dense(3, activation='softmax'))\n",
    "model.compile(loss=categorical_crossentropy, optimizer=RMSprop(lr=.01),metrics=['accuracy'])"
   ]
  },
  {
   "cell_type": "code",
   "execution_count": 52,
   "metadata": {},
   "outputs": [
    {
     "name": "stdout",
     "output_type": "stream",
     "text": [
      "Train on 345 samples, validate on 116 samples\n",
      "Epoch 1/100\n",
      "345/345 [==============================] - 2s 6ms/step - loss: 1.2521 - acc: 0.5594 - val_loss: 0.7725 - val_acc: 0.7672\n",
      "Epoch 2/100\n",
      "345/345 [==============================] - 0s 837us/step - loss: 0.8625 - acc: 0.6696 - val_loss: 0.6860 - val_acc: 0.7672\n",
      "Epoch 3/100\n",
      "345/345 [==============================] - 0s 691us/step - loss: 0.8427 - acc: 0.6696 - val_loss: 0.6956 - val_acc: 0.7672\n",
      "Epoch 4/100\n",
      "345/345 [==============================] - 0s 685us/step - loss: 0.8396 - acc: 0.6696 - val_loss: 0.7710 - val_acc: 0.7672\n",
      "Epoch 5/100\n",
      "345/345 [==============================] - 0s 683us/step - loss: 0.8327 - acc: 0.6696 - val_loss: 0.7229 - val_acc: 0.7672\n",
      "Epoch 6/100\n",
      "345/345 [==============================] - 0s 697us/step - loss: 0.8336 - acc: 0.6696 - val_loss: 0.6695 - val_acc: 0.7672\n",
      "Epoch 7/100\n",
      "345/345 [==============================] - 0s 792us/step - loss: 0.8879 - acc: 0.6754 - val_loss: 0.6877 - val_acc: 0.7672\n",
      "Epoch 8/100\n",
      "345/345 [==============================] - 0s 671us/step - loss: 0.8483 - acc: 0.6696 - val_loss: 0.6613 - val_acc: 0.7672\n",
      "Epoch 9/100\n",
      "345/345 [==============================] - 0s 660us/step - loss: 0.8233 - acc: 0.6696 - val_loss: 0.7679 - val_acc: 0.7759\n",
      "Epoch 10/100\n",
      "345/345 [==============================] - 0s 697us/step - loss: 0.8048 - acc: 0.6841 - val_loss: 0.6933 - val_acc: 0.7759\n",
      "Epoch 11/100\n",
      "345/345 [==============================] - 0s 684us/step - loss: 0.8159 - acc: 0.6899 - val_loss: 0.7948 - val_acc: 0.7845\n",
      "Epoch 12/100\n",
      "345/345 [==============================] - 0s 801us/step - loss: 0.7913 - acc: 0.6986 - val_loss: 0.6319 - val_acc: 0.7759\n",
      "Epoch 13/100\n",
      "345/345 [==============================] - 0s 661us/step - loss: 0.9065 - acc: 0.6377 - val_loss: 0.6674 - val_acc: 0.7759\n",
      "Epoch 14/100\n",
      "345/345 [==============================] - 0s 600us/step - loss: 0.7670 - acc: 0.6841 - val_loss: 0.6577 - val_acc: 0.7759\n",
      "Epoch 15/100\n",
      "345/345 [==============================] - 0s 605us/step - loss: 0.8448 - acc: 0.7275 - val_loss: 0.6386 - val_acc: 0.7845\n",
      "Epoch 16/100\n",
      "345/345 [==============================] - 0s 617us/step - loss: 0.7595 - acc: 0.7188 - val_loss: 0.6967 - val_acc: 0.7931\n",
      "Epoch 17/100\n",
      "345/345 [==============================] - 0s 857us/step - loss: 0.7443 - acc: 0.7246 - val_loss: 0.6075 - val_acc: 0.7759\n",
      "Epoch 18/100\n",
      "345/345 [==============================] - 0s 547us/step - loss: 0.7603 - acc: 0.7130 - val_loss: 0.6064 - val_acc: 0.7845\n",
      "Epoch 19/100\n",
      "345/345 [==============================] - 0s 672us/step - loss: 0.7261 - acc: 0.7391 - val_loss: 0.8671 - val_acc: 0.6724\n",
      "Epoch 20/100\n",
      "345/345 [==============================] - 0s 632us/step - loss: 0.8531 - acc: 0.6203 - val_loss: 0.5990 - val_acc: 0.7759\n",
      "Epoch 21/100\n",
      "345/345 [==============================] - 0s 624us/step - loss: 0.6968 - acc: 0.7188 - val_loss: 0.6242 - val_acc: 0.7845\n",
      "Epoch 22/100\n",
      "345/345 [==============================] - 0s 805us/step - loss: 0.6902 - acc: 0.7217 - val_loss: 0.6635 - val_acc: 0.7672\n",
      "Epoch 23/100\n",
      "345/345 [==============================] - 0s 687us/step - loss: 0.6760 - acc: 0.7362 - val_loss: 0.6044 - val_acc: 0.7845\n",
      "Epoch 24/100\n",
      "345/345 [==============================] - 0s 669us/step - loss: 0.6545 - acc: 0.7565 - val_loss: 0.5609 - val_acc: 0.7759\n",
      "Epoch 25/100\n",
      "345/345 [==============================] - 0s 585us/step - loss: 0.6557 - acc: 0.7507 - val_loss: 0.7356 - val_acc: 0.6983\n",
      "Epoch 26/100\n",
      "345/345 [==============================] - 0s 593us/step - loss: 0.6896 - acc: 0.6870 - val_loss: 0.5505 - val_acc: 0.7845\n",
      "Epoch 27/100\n",
      "345/345 [==============================] - 0s 732us/step - loss: 0.6098 - acc: 0.7362 - val_loss: 0.5585 - val_acc: 0.7845\n",
      "Epoch 28/100\n",
      "345/345 [==============================] - 0s 630us/step - loss: 0.6329 - acc: 0.7362 - val_loss: 0.5443 - val_acc: 0.7845\n",
      "Epoch 29/100\n",
      "345/345 [==============================] - 0s 641us/step - loss: 0.6163 - acc: 0.7333 - val_loss: 0.6344 - val_acc: 0.7931\n",
      "Epoch 30/100\n",
      "345/345 [==============================] - 0s 626us/step - loss: 0.6062 - acc: 0.7536 - val_loss: 0.5031 - val_acc: 0.7759\n",
      "Epoch 31/100\n",
      "345/345 [==============================] - 0s 633us/step - loss: 0.5667 - acc: 0.7884 - val_loss: 0.5010 - val_acc: 0.7759\n",
      "Epoch 32/100\n",
      "345/345 [==============================] - 0s 758us/step - loss: 0.5145 - acc: 0.7739 - val_loss: 0.5029 - val_acc: 0.7931\n",
      "Epoch 33/100\n",
      "345/345 [==============================] - 0s 597us/step - loss: 0.4984 - acc: 0.8029 - val_loss: 0.4955 - val_acc: 0.7931\n",
      "Epoch 34/100\n",
      "345/345 [==============================] - 0s 602us/step - loss: 0.5794 - acc: 0.7507 - val_loss: 0.6006 - val_acc: 0.7241\n",
      "Epoch 35/100\n",
      "345/345 [==============================] - 0s 643us/step - loss: 0.5559 - acc: 0.7739 - val_loss: 0.5464 - val_acc: 0.7845\n",
      "Epoch 36/100\n",
      "345/345 [==============================] - 0s 653us/step - loss: 0.5129 - acc: 0.7913 - val_loss: 0.4800 - val_acc: 0.7845\n",
      "Epoch 37/100\n",
      "345/345 [==============================] - 0s 790us/step - loss: 0.4916 - acc: 0.7913 - val_loss: 0.4660 - val_acc: 0.8190\n",
      "Epoch 38/100\n",
      "345/345 [==============================] - 0s 654us/step - loss: 0.4301 - acc: 0.8319 - val_loss: 0.5383 - val_acc: 0.7759\n",
      "Epoch 39/100\n",
      "345/345 [==============================] - 0s 477us/step - loss: 0.5544 - acc: 0.7333 - val_loss: 0.4153 - val_acc: 0.8534\n",
      "Epoch 40/100\n",
      "345/345 [==============================] - 0s 632us/step - loss: 0.4602 - acc: 0.8174 - val_loss: 0.5479 - val_acc: 0.7759\n",
      "Epoch 41/100\n",
      "345/345 [==============================] - 0s 644us/step - loss: 0.5936 - acc: 0.7710 - val_loss: 0.4471 - val_acc: 0.7759\n",
      "Epoch 42/100\n",
      "345/345 [==============================] - 0s 671us/step - loss: 0.4544 - acc: 0.8029 - val_loss: 0.4405 - val_acc: 0.8362\n",
      "Epoch 43/100\n",
      "345/345 [==============================] - 0s 742us/step - loss: 0.5634 - acc: 0.7768 - val_loss: 0.5367 - val_acc: 0.8017\n",
      "Epoch 44/100\n",
      "345/345 [==============================] - 0s 690us/step - loss: 0.5458 - acc: 0.7710 - val_loss: 0.4599 - val_acc: 0.7845\n",
      "Epoch 45/100\n",
      "345/345 [==============================] - 0s 659us/step - loss: 0.4836 - acc: 0.7855 - val_loss: 0.4435 - val_acc: 0.8190\n",
      "Epoch 46/100\n",
      "345/345 [==============================] - 0s 602us/step - loss: 0.4526 - acc: 0.8116 - val_loss: 0.4535 - val_acc: 0.8103\n",
      "Epoch 47/100\n",
      "345/345 [==============================] - 0s 666us/step - loss: 0.4659 - acc: 0.8058 - val_loss: 0.4270 - val_acc: 0.8276\n",
      "Epoch 48/100\n",
      "345/345 [==============================] - 0s 726us/step - loss: 0.4473 - acc: 0.8174 - val_loss: 0.4129 - val_acc: 0.8362\n",
      "Epoch 49/100\n",
      "345/345 [==============================] - 0s 644us/step - loss: 0.4043 - acc: 0.8406 - val_loss: 0.4137 - val_acc: 0.8448\n",
      "Epoch 50/100\n",
      "345/345 [==============================] - 0s 659us/step - loss: 0.4942 - acc: 0.7913 - val_loss: 0.4406 - val_acc: 0.8190\n",
      "Epoch 51/100\n",
      "345/345 [==============================] - 0s 612us/step - loss: 0.4621 - acc: 0.8116 - val_loss: 0.4244 - val_acc: 0.8017\n",
      "Epoch 52/100\n",
      "345/345 [==============================] - 0s 615us/step - loss: 0.3892 - acc: 0.8493 - val_loss: 0.3856 - val_acc: 0.8534\n",
      "Epoch 53/100\n",
      "345/345 [==============================] - 0s 714us/step - loss: 0.3681 - acc: 0.8638 - val_loss: 0.4266 - val_acc: 0.7931\n",
      "Epoch 54/100\n",
      "345/345 [==============================] - 0s 571us/step - loss: 0.6207 - acc: 0.7333 - val_loss: 0.5913 - val_acc: 0.7931\n",
      "Epoch 55/100\n",
      "345/345 [==============================] - 0s 567us/step - loss: 0.4930 - acc: 0.8029 - val_loss: 0.4008 - val_acc: 0.8448\n",
      "Epoch 56/100\n",
      "345/345 [==============================] - 0s 638us/step - loss: 0.3820 - acc: 0.8464 - val_loss: 0.4264 - val_acc: 0.8103\n",
      "Epoch 57/100\n",
      "345/345 [==============================] - 0s 641us/step - loss: 0.3614 - acc: 0.8435 - val_loss: 0.4063 - val_acc: 0.8534\n",
      "Epoch 58/100\n",
      "345/345 [==============================] - 0s 692us/step - loss: 0.3706 - acc: 0.8348 - val_loss: 0.4302 - val_acc: 0.8103\n",
      "Epoch 59/100\n",
      "345/345 [==============================] - 0s 582us/step - loss: 0.4084 - acc: 0.8174 - val_loss: 0.4558 - val_acc: 0.8103\n",
      "Epoch 60/100\n",
      "345/345 [==============================] - 0s 624us/step - loss: 0.4812 - acc: 0.8174 - val_loss: 0.4357 - val_acc: 0.8190\n"
     ]
    },
    {
     "name": "stdout",
     "output_type": "stream",
     "text": [
      "Epoch 61/100\n",
      "345/345 [==============================] - 0s 591us/step - loss: 0.3967 - acc: 0.8464 - val_loss: 0.4516 - val_acc: 0.8362\n",
      "Epoch 62/100\n",
      "345/345 [==============================] - 0s 628us/step - loss: 0.4465 - acc: 0.7971 - val_loss: 0.4204 - val_acc: 0.8362\n",
      "Epoch 63/100\n",
      "345/345 [==============================] - 0s 763us/step - loss: 0.3869 - acc: 0.8406 - val_loss: 0.4366 - val_acc: 0.8276\n",
      "Epoch 64/100\n",
      "345/345 [==============================] - 0s 584us/step - loss: 0.3882 - acc: 0.8406 - val_loss: 0.4189 - val_acc: 0.8362\n",
      "Epoch 65/100\n",
      "345/345 [==============================] - 0s 613us/step - loss: 0.3579 - acc: 0.8609 - val_loss: 0.4273 - val_acc: 0.8362\n",
      "Epoch 66/100\n",
      "345/345 [==============================] - 0s 564us/step - loss: 0.3627 - acc: 0.8493 - val_loss: 0.4129 - val_acc: 0.8362\n",
      "Epoch 67/100\n",
      "345/345 [==============================] - 0s 637us/step - loss: 0.3547 - acc: 0.8377 - val_loss: 0.3742 - val_acc: 0.8448\n",
      "Epoch 68/100\n",
      "345/345 [==============================] - 0s 588us/step - loss: 0.3683 - acc: 0.8522 - val_loss: 0.4979 - val_acc: 0.7759\n",
      "Epoch 69/100\n",
      "345/345 [==============================] - 0s 752us/step - loss: 0.4336 - acc: 0.8261 - val_loss: 0.4292 - val_acc: 0.8362\n",
      "Epoch 70/100\n",
      "345/345 [==============================] - 0s 622us/step - loss: 0.3889 - acc: 0.8319 - val_loss: 0.4252 - val_acc: 0.8103\n",
      "Epoch 71/100\n",
      "345/345 [==============================] - 0s 640us/step - loss: 0.3408 - acc: 0.8609 - val_loss: 0.4270 - val_acc: 0.8017\n",
      "Epoch 72/100\n",
      "345/345 [==============================] - 0s 620us/step - loss: 0.3593 - acc: 0.8493 - val_loss: 0.3669 - val_acc: 0.8534\n",
      "Epoch 73/100\n",
      "345/345 [==============================] - 0s 619us/step - loss: 0.3303 - acc: 0.8899 - val_loss: 0.3573 - val_acc: 0.8534\n",
      "Epoch 74/100\n",
      "345/345 [==============================] - 0s 772us/step - loss: 0.3041 - acc: 0.8696 - val_loss: 0.3753 - val_acc: 0.8448\n",
      "Epoch 75/100\n",
      "345/345 [==============================] - 0s 598us/step - loss: 0.3209 - acc: 0.8696 - val_loss: 0.3564 - val_acc: 0.8707\n",
      "Epoch 76/100\n",
      "345/345 [==============================] - 0s 569us/step - loss: 0.3207 - acc: 0.8957 - val_loss: 0.3684 - val_acc: 0.8621\n",
      "Epoch 77/100\n",
      "345/345 [==============================] - 0s 585us/step - loss: 0.2881 - acc: 0.8957 - val_loss: 0.5339 - val_acc: 0.8103\n",
      "Epoch 78/100\n",
      "345/345 [==============================] - 0s 586us/step - loss: 0.4706 - acc: 0.8174 - val_loss: 0.7678 - val_acc: 0.7069\n",
      "Epoch 79/100\n",
      "345/345 [==============================] - 0s 773us/step - loss: 0.4942 - acc: 0.7971 - val_loss: 0.3904 - val_acc: 0.8362\n",
      "Epoch 80/100\n",
      "345/345 [==============================] - 0s 587us/step - loss: 0.3799 - acc: 0.8174 - val_loss: 0.3451 - val_acc: 0.8534\n",
      "Epoch 81/100\n",
      "345/345 [==============================] - 0s 507us/step - loss: 0.2715 - acc: 0.9188 - val_loss: 0.3502 - val_acc: 0.8621\n",
      "Epoch 82/100\n",
      "345/345 [==============================] - 0s 574us/step - loss: 0.2212 - acc: 0.9304 - val_loss: 0.4810 - val_acc: 0.8534\n",
      "Epoch 83/100\n",
      "345/345 [==============================] - 0s 578us/step - loss: 0.5131 - acc: 0.7797 - val_loss: 0.5195 - val_acc: 0.7759\n",
      "Epoch 84/100\n",
      "345/345 [==============================] - 0s 555us/step - loss: 0.4077 - acc: 0.8232 - val_loss: 0.4129 - val_acc: 0.8534\n",
      "Epoch 85/100\n",
      "345/345 [==============================] - 0s 747us/step - loss: 0.3511 - acc: 0.8435 - val_loss: 0.3990 - val_acc: 0.8362\n",
      "Epoch 86/100\n",
      "345/345 [==============================] - 0s 601us/step - loss: 0.3215 - acc: 0.8580 - val_loss: 0.3654 - val_acc: 0.8534\n",
      "Epoch 87/100\n",
      "345/345 [==============================] - 0s 683us/step - loss: 0.2957 - acc: 0.8870 - val_loss: 0.4219 - val_acc: 0.8362\n",
      "Epoch 88/100\n",
      "345/345 [==============================] - 0s 593us/step - loss: 0.3346 - acc: 0.8580 - val_loss: 0.3349 - val_acc: 0.8621\n",
      "Epoch 89/100\n",
      "345/345 [==============================] - 0s 601us/step - loss: 0.2531 - acc: 0.9072 - val_loss: 0.3506 - val_acc: 0.8793\n",
      "Epoch 90/100\n",
      "345/345 [==============================] - 0s 780us/step - loss: 0.2817 - acc: 0.8841 - val_loss: 0.4050 - val_acc: 0.8190\n",
      "Epoch 91/100\n",
      "345/345 [==============================] - 0s 635us/step - loss: 0.3245 - acc: 0.8435 - val_loss: 0.3450 - val_acc: 0.8707\n",
      "Epoch 92/100\n",
      "345/345 [==============================] - 0s 620us/step - loss: 0.2436 - acc: 0.9188 - val_loss: 0.6495 - val_acc: 0.8103\n",
      "Epoch 93/100\n",
      "345/345 [==============================] - 0s 546us/step - loss: 0.5630 - acc: 0.7594 - val_loss: 0.3455 - val_acc: 0.8534\n",
      "Epoch 94/100\n",
      "345/345 [==============================] - 0s 519us/step - loss: 0.3384 - acc: 0.8696 - val_loss: 0.3965 - val_acc: 0.8362\n",
      "Epoch 95/100\n",
      "345/345 [==============================] - 0s 589us/step - loss: 0.2980 - acc: 0.8928 - val_loss: 0.3451 - val_acc: 0.8621\n",
      "Epoch 96/100\n",
      "345/345 [==============================] - 0s 708us/step - loss: 0.2495 - acc: 0.9217 - val_loss: 0.3407 - val_acc: 0.8707\n",
      "Epoch 97/100\n",
      "345/345 [==============================] - 0s 570us/step - loss: 0.2483 - acc: 0.9014 - val_loss: 0.3532 - val_acc: 0.8534\n",
      "Epoch 98/100\n",
      "345/345 [==============================] - 0s 564us/step - loss: 0.2327 - acc: 0.9275 - val_loss: 0.3380 - val_acc: 0.8707\n",
      "Epoch 99/100\n",
      "345/345 [==============================] - 0s 637us/step - loss: 0.2661 - acc: 0.8986 - val_loss: 0.3790 - val_acc: 0.8621\n",
      "Epoch 100/100\n",
      "345/345 [==============================] - 0s 568us/step - loss: 0.2601 - acc: 0.9014 - val_loss: 0.3369 - val_acc: 0.8793\n",
      "116/116 [==============================] - 0s 188us/step\n",
      "Summary: Loss over the test dataset: 0.34, Accuracy: 0.88\n"
     ]
    }
   ],
   "source": [
    "# Train\n",
    "history = model.fit(x_train, y_train, epochs=nb_epoch, batch_size=batch_size, shuffle=True, verbose=1, validation_data=(x_test, y_test))\n",
    "\n",
    "# EvaluateX_train, y_train, epochs=35, validation_data=(X_test, y_test)\n",
    "evaluation = model.evaluate(x_test, y_test, batch_size=batch_size, verbose=1)\n",
    "print('Summary: Loss over the test dataset: %.2f, Accuracy: %.2f' % (evaluation[0], evaluation[1]))"
   ]
  },
  {
   "cell_type": "code",
   "execution_count": 53,
   "metadata": {},
   "outputs": [],
   "source": [
    "test_image = []\n",
    "img = image.load_img(\"data\\spec\\extrastole__127_1306764300147_C2.png\", target_size=(28,28,3), grayscale=False)\n",
    "img = image.img_to_array(img)\n",
    "img = img/255\n",
    "test_image.append(img)\n",
    "test = np.array(test_image)"
   ]
  },
  {
   "cell_type": "code",
   "execution_count": 54,
   "metadata": {},
   "outputs": [
    {
     "data": {
      "text/plain": [
       "(1, 28, 28, 3)"
      ]
     },
     "execution_count": 54,
     "metadata": {},
     "output_type": "execute_result"
    }
   ],
   "source": [
    "test.shape"
   ]
  },
  {
   "cell_type": "code",
   "execution_count": 55,
   "metadata": {},
   "outputs": [],
   "source": [
    "x_train = np.array(X_train).reshape((1, 28, -1))"
   ]
  },
  {
   "cell_type": "code",
   "execution_count": 56,
   "metadata": {},
   "outputs": [
    {
     "data": {
      "text/plain": [
       "(1, 28, 28980)"
      ]
     },
     "execution_count": 56,
     "metadata": {},
     "output_type": "execute_result"
    }
   ],
   "source": [
    "x_train.shape"
   ]
  },
  {
   "cell_type": "code",
   "execution_count": 57,
   "metadata": {},
   "outputs": [],
   "source": [
    "def predict(path):\n",
    "    test_image = []\n",
    "\n",
    "    img = image.load_img(path, target_size=(28,28,3), grayscale=False)\n",
    "    img = image.img_to_array(img)\n",
    "    img = img/255\n",
    "    test_image.append(img)\n",
    "\n",
    "\n",
    "\n",
    "    test = np.array(test_image)\n",
    "    test = np.array(test).reshape((1, 28, -1))\n",
    "    prediction = model.predict_classes(test)\n",
    "    return prediction"
   ]
  },
  {
   "cell_type": "code",
   "execution_count": null,
   "metadata": {},
   "outputs": [],
   "source": []
  },
  {
   "cell_type": "code",
   "execution_count": 60,
   "metadata": {},
   "outputs": [
    {
     "name": "stderr",
     "output_type": "stream",
     "text": [
      "Exception in Tkinter callback\n",
      "Traceback (most recent call last):\n",
      "  File \"C:\\Users\\DILSHEEN\\Anaconda3\\lib\\site-packages\\PIL\\Image.py\", line 2552, in open\n",
      "    fp.seek(0)\n",
      "AttributeError: 'str' object has no attribute 'seek'\n",
      "\n",
      "During handling of the above exception, another exception occurred:\n",
      "\n",
      "Traceback (most recent call last):\n",
      "  File \"C:\\Users\\DILSHEEN\\Anaconda3\\lib\\tkinter\\__init__.py\", line 1702, in __call__\n",
      "    return self.func(*args)\n",
      "  File \"<ipython-input-60-b9a40bca8581>\", line 10, in open_img\n",
      "    img = Image.open(x)\n",
      "  File \"C:\\Users\\DILSHEEN\\Anaconda3\\lib\\site-packages\\PIL\\Image.py\", line 2554, in open\n",
      "    fp = io.BytesIO(fp.read())\n",
      "AttributeError: 'str' object has no attribute 'read'\n"
     ]
    }
   ],
   "source": [
    "from tkinter import *\n",
    " \n",
    "from PIL import ImageTk, Image \n",
    "from tkinter import messagebox\n",
    "from tkinter import filedialog \n",
    "def open_img(): \n",
    " \n",
    "    x = filedialog.askopenfilename(title ='images') \n",
    "\n",
    "    img = Image.open(x) \n",
    "\n",
    "    img = img.resize((250, 250), Image.ANTIALIAS) \n",
    "\n",
    "\n",
    "    img = ImageTk.PhotoImage(img) \n",
    "\n",
    "\n",
    "    panel = Label(root, image = img) \n",
    "\n",
    "    panel.image = img \n",
    "    panel.grid(row = 2) \n",
    "    \n",
    "    label = predict(x)\n",
    "    if label == 0:\n",
    "        label = \"extrasystole\"\n",
    "    elif label == 1:\n",
    "        label = \"murmur\"\n",
    "    elif label == 2:\n",
    "        label = \"normal\"\n",
    "    \n",
    "    \n",
    "    messagebox.showinfo('Prediction',label)\n",
    "        \n",
    "root = Tk() \n",
    "\n",
    "# Set Title as Image Loader \n",
    "root.title(\"Image Loader\") \n",
    "\n",
    "# Set the resolution of window \n",
    "root.geometry('550x500')\n",
    "\n",
    "# Allow Window to be resizable \n",
    "root.resizable(width = True, height = True) \n",
    "\n",
    "# Create a button and place it into the window using grid layout \n",
    "btn = Button(root, text ='open image', command = open_img).grid( \n",
    "\t\t\t\t\t\t\t\t\t\trow = 1, columnspan = 4) \n",
    "\n",
    "root.mainloop() \n",
    "\n"
   ]
  },
  {
   "cell_type": "code",
   "execution_count": null,
   "metadata": {},
   "outputs": [],
   "source": []
  }
 ],
 "metadata": {
  "kernelspec": {
   "display_name": "Python 3",
   "language": "python",
   "name": "python3"
  },
  "language_info": {
   "codemirror_mode": {
    "name": "ipython",
    "version": 3
   },
   "file_extension": ".py",
   "mimetype": "text/x-python",
   "name": "python",
   "nbconvert_exporter": "python",
   "pygments_lexer": "ipython3",
   "version": "3.6.5"
  }
 },
 "nbformat": 4,
 "nbformat_minor": 4
}
